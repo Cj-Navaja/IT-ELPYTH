{
 "cells": [
  {
   "cell_type": "markdown",
   "id": "d9f02db4-039a-45ff-9bef-5636bdb4cf9d",
   "metadata": {},
   "source": [
    "# Review Question #1"
   ]
  },
  {
   "cell_type": "code",
   "execution_count": 1,
   "id": "5ee6e089-9dce-43e2-a3bb-eb8d21d5c042",
   "metadata": {},
   "outputs": [
    {
     "name": "stdout",
     "output_type": "stream",
     "text": [
      "Philo's coat is brown.\n"
     ]
    }
   ],
   "source": [
    "class Dog:\n",
    "    def __init__(self, name, age, coat_color):\n",
    "        self.name = name\n",
    "        self.age = age\n",
    "        self.coat_color = coat_color\n",
    "\n",
    "philo = Dog(\"Philo\", 5, \"brown\")\n",
    "print(f\"{philo.name}'s coat is {philo.coat_color}.\")\n"
   ]
  },
  {
   "cell_type": "code",
   "execution_count": 2,
   "id": "b102636f-e8ab-45d3-8db3-3d7a3ef51139",
   "metadata": {},
   "outputs": [
    {
     "name": "stdout",
     "output_type": "stream",
     "text": [
      "The blue car has 20,000 miles.\n",
      "The red car has 30,000 miles.\n"
     ]
    }
   ],
   "source": [
    "class Car:\n",
    "    def __init__(self, color, mileage):\n",
    "        self.color = color\n",
    "        self.mileage = mileage\n",
    "\n",
    "blue_car = Car(\"blue\", 20000)\n",
    "red_car = Car(\"red\", 30000)\n",
    "\n",
    "print(f\"The {blue_car.color} car has {blue_car.mileage:,} miles.\")\n",
    "print(f\"The {red_car.color} car has {red_car.mileage:,} miles.\")\n"
   ]
  },
  {
   "cell_type": "code",
   "execution_count": 3,
   "id": "94ccb1fb-7007-49d4-8333-fb0013b38ae1",
   "metadata": {},
   "outputs": [
    {
     "name": "stdout",
     "output_type": "stream",
     "text": [
      "The black car has 100 miles.\n"
     ]
    }
   ],
   "source": [
    "class Car:\n",
    "    def __init__(self, color, mileage):\n",
    "        self.color = color\n",
    "        self.mileage = mileage\n",
    "\n",
    "    def drive(self, miles):\n",
    "        self.mileage += miles\n",
    "\n",
    "my_car = Car(\"black\", 0)\n",
    "my_car.drive(100)\n",
    "\n",
    "print(f\"The {my_car.color} car has {my_car.mileage} miles.\")\n"
   ]
  },
  {
   "cell_type": "markdown",
   "id": "12c08931-7bff-47c1-87d2-37c6be028f74",
   "metadata": {},
   "source": [
    "# Review Question #2"
   ]
  },
  {
   "cell_type": "code",
   "execution_count": 12,
   "id": "a5c979f2-085f-4e6c-a395-c873f2163ee9",
   "metadata": {},
   "outputs": [
    {
     "name": "stdout",
     "output_type": "stream",
     "text": [
      "Buddy is 3 years old\n",
      "Buddy says Bark\n",
      "Buddy says Woof\n"
     ]
    }
   ],
   "source": [
    "class Dog:\n",
    "    species = \"Canis familiaris\"\n",
    "\n",
    "    def __init__(self, name, age):\n",
    "        self.name = name\n",
    "        self.age = age\n",
    "\n",
    "    def __str__(self):\n",
    "        return f\"{self.name} is {self.age} years old\"\n",
    "\n",
    "    def speak(self, sound):\n",
    "        return f\"{self.name} says {sound}\"\n",
    "\n",
    "class GoldenRetriever(Dog):\n",
    "    def speak(self, sound=\"Bark\"):\n",
    "        return super().speak(sound)\n",
    "\n",
    "goldie = GoldenRetriever(\"Buddy\", 3)\n",
    "print(goldie)                 \n",
    "print(goldie.speak())         \n",
    "print(goldie.speak(\"Woof\"))   \n"
   ]
  },
  {
   "cell_type": "code",
   "execution_count": 5,
   "id": "0b4a1c3c-dc92-4f50-af2b-35b2074edef2",
   "metadata": {},
   "outputs": [
    {
     "name": "stdout",
     "output_type": "stream",
     "text": [
      "Area of square: 16\n"
     ]
    }
   ],
   "source": [
    "class Rectangle:\n",
    "    def __init__(self, length, width):\n",
    "        self.length = length\n",
    "        self.width = width\n",
    "        \n",
    "    def area(self):\n",
    "        return self.length * self.width\n",
    "\n",
    "class Square(Rectangle):\n",
    "    def __init__(self, side_length):\n",
    "        super().__init__(side_length, side_length)\n",
    "\n",
    "my_square = Square(4)\n",
    "print(\"Area of square:\", my_square.area())\n"
   ]
  },
  {
   "cell_type": "markdown",
   "id": "3739cf98-34a9-46a0-acbb-b903aee9bd49",
   "metadata": {},
   "source": [
    "# Challenge:Model A Farm"
   ]
  },
  {
   "cell_type": "code",
   "execution_count": 13,
   "id": "55627c57-c68a-46c6-b68f-ff229df82901",
   "metadata": {},
   "outputs": [
    {
     "name": "stdout",
     "output_type": "stream",
     "text": [
      "The Cow named Bessie says Moo!\n",
      "The Chicken named Clucky says Cluck!\n",
      "The Sheep named Wooly says Baa!\n"
     ]
    }
   ],
   "source": [
    "class Animal:\n",
    "    def __init__(self, name, sound):\n",
    "        self.name = name\n",
    "        self.sound = sound\n",
    "        \n",
    "    def speak(self):\n",
    "        return f\"The {self.__class__.__name__} named {self.name} says {self.sound}!\"\n",
    "\n",
    "class Cow(Animal):\n",
    "    def __init__(self, name):\n",
    "        super().__init__(name, \"Moo\")\n",
    "        \n",
    "class Chicken(Animal):\n",
    "    def __init__(self, name):\n",
    "        super().__init__(name, \"Cluck\")\n",
    "\n",
    "class Sheep(Animal):\n",
    "    def __init__(self, name):\n",
    "        super().__init__(name, \"Baa\")\n",
    "\n",
    "bessie = Cow(\"Bessie\")\n",
    "clucky = Chicken(\"Clucky\")\n",
    "wooly = Sheep(\"Wooly\")\n",
    "\n",
    "print(bessie.speak())  \n",
    "print(clucky.speak())   \n",
    "print(wooly.speak())    \n",
    "\n"
   ]
  },
  {
   "cell_type": "code",
   "execution_count": 14,
   "id": "030836e2-a386-4cde-9530-05a3b868bcb1",
   "metadata": {},
   "outputs": [
    {
     "name": "stdout",
     "output_type": "stream",
     "text": [
      "Bessie is eating.\n",
      "Bessie produces 10 liters of milk per day.\n",
      "Clucky lays 3 eggs per day.\n",
      "Wooly provides 5 kg of wool per year.\n"
     ]
    }
   ],
   "source": [
    "class Animal:\n",
    "    def __init__(self, name, age):\n",
    "        self.name = name\n",
    "        self.age = age\n",
    "    \n",
    "    def eat(self):\n",
    "        return f\"{self.name} is eating.\"\n",
    "\n",
    "    def sleep(self):\n",
    "        return f\"{self.name} is sleeping.\"\n",
    "\n",
    "class Cow(Animal):\n",
    "    def __init__(self, name, age, milk_production):\n",
    "        super().__init__(name, age)\n",
    "        self.milk_production = milk_production  \n",
    "\n",
    "    def produce_milk(self):\n",
    "        return f\"{self.name} produces {self.milk_production} liters of milk per day.\"\n",
    "\n",
    "class Chicken(Animal):\n",
    "    def __init__(self, name, age, eggs_per_day):\n",
    "        super().__init__(name, age)\n",
    "        self.eggs_per_day = eggs_per_day\n",
    "\n",
    "    def lay_eggs(self):\n",
    "        return f\"{self.name} lays {self.eggs_per_day} eggs per day.\"\n",
    "\n",
    "\n",
    "class Sheep(Animal):\n",
    "    def __init__(self, name, age, wool_weight):\n",
    "        super().__init__(name, age)\n",
    "        self.wool_weight = wool_weight  \n",
    "\n",
    "    def shear_wool(self):\n",
    "        return f\"{self.name} provides {self.wool_weight} kg of wool per year.\"\n",
    "\n",
    "bessie = Cow(\"Bessie\", 5, 10)\n",
    "clucky = Chicken(\"Clucky\", 2, 3)\n",
    "wooly = Sheep(\"Wooly\", 4, 5)\n",
    "\n",
    "print(bessie.eat())\n",
    "print(bessie.produce_milk())\n",
    "print(clucky.lay_eggs())\n",
    "print(wooly.shear_wool())\n"
   ]
  },
  {
   "cell_type": "code",
   "execution_count": 11,
   "id": "87b8060a-0d5d-459a-8b7e-33b3d0fb8af1",
   "metadata": {},
   "outputs": [
    {
     "name": "stdout",
     "output_type": "stream",
     "text": [
      "Bessie is 5 years old.\n",
      "Bessie is eating.\n",
      "Bessie is sleeping.\n",
      "Bessie produces 10 liters of milk per day.\n",
      "----------------------------------------\n",
      "Clucky is 2 years old.\n",
      "Clucky is eating.\n",
      "Clucky is sleeping.\n",
      "Clucky lays 3 eggs per day.\n",
      "----------------------------------------\n",
      "Wooly is 4 years old.\n",
      "Wooly is eating.\n",
      "Wooly is sleeping.\n",
      "Wooly grows 6 kg of wool per year.\n",
      "----------------------------------------\n"
     ]
    }
   ],
   "source": [
    "class Animal:\n",
    "    def __init__(self, name, age):\n",
    "        self.name = name\n",
    "        self.age = age\n",
    "    \n",
    "    def eat(self):\n",
    "        return f\"{self.name} is eating.\"\n",
    "\n",
    "    def sleep(self):\n",
    "        return f\"{self.name} is sleeping.\"\n",
    "\n",
    "class Cow(Animal):\n",
    "    def __init__(self, name, age, milk_per_day):\n",
    "        super().__init__(name, age)\n",
    "        self.milk_per_day = milk_per_day\n",
    "\n",
    "    def behavior(self):\n",
    "        return f\"{self.name} produces {self.milk_per_day} liters of milk per day.\"\n",
    "\n",
    "class Chicken(Animal):\n",
    "    def __init__(self, name, age, eggs_per_day):\n",
    "        super().__init__(name, age)\n",
    "        self.eggs_per_day = eggs_per_day\n",
    "\n",
    "    def behavior(self):\n",
    "        return f\"{self.name} lays {self.eggs_per_day} eggs per day.\"\n",
    "\n",
    "\n",
    "class Sheep(Animal):\n",
    "    def __init__(self, name, age, wool_per_year):\n",
    "        super().__init__(name, age)\n",
    "        self.wool_per_year = wool_per_year\n",
    "\n",
    "    def behavior(self):\n",
    "        return f\"{self.name} grows {self.wool_per_year} kg of wool per year.\"\n",
    "\n",
    "bessie = Cow(\"Bessie\", 5, 10)\n",
    "clucky = Chicken(\"Clucky\", 2, 3)\n",
    "wooly = Sheep(\"Wooly\", 4, 6)\n",
    "\n",
    "animals = [bessie, clucky, wooly]\n",
    "\n",
    "for animal in animals:\n",
    "    print(f\"{animal.name} is {animal.age} years old.\")\n",
    "    print(animal.eat())\n",
    "    print(animal.sleep())\n",
    "    print(animal.behavior())\n",
    "    print(\"-\" * 40)\n"
   ]
  },
  {
   "cell_type": "code",
   "execution_count": null,
   "id": "0b9c0f58-0cef-4420-8c97-d3d44dcdccea",
   "metadata": {},
   "outputs": [],
   "source": []
  }
 ],
 "metadata": {
  "kernelspec": {
   "display_name": "Python 3 (ipykernel)",
   "language": "python",
   "name": "python3"
  },
  "language_info": {
   "codemirror_mode": {
    "name": "ipython",
    "version": 3
   },
   "file_extension": ".py",
   "mimetype": "text/x-python",
   "name": "python",
   "nbconvert_exporter": "python",
   "pygments_lexer": "ipython3",
   "version": "3.13.5"
  }
 },
 "nbformat": 4,
 "nbformat_minor": 5
}
