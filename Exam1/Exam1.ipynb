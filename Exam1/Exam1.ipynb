{
 "cells": [
  {
   "cell_type": "markdown",
   "id": "dccb41b0-6d53-41b9-9195-d7371f01b2e7",
   "metadata": {},
   "source": [
    "# 1st Long Exam 9-10-25"
   ]
  },
  {
   "cell_type": "markdown",
   "id": "b206e56b-2299-457e-9137-c70bf3cdb72f",
   "metadata": {},
   "source": [
    "# CHARL JUSTINE P. NAVAJA 19824960"
   ]
  },
  {
   "cell_type": "code",
   "execution_count": 1,
   "id": "3fca346a-fce9-4ae4-8f89-83dd6936b91c",
   "metadata": {},
   "outputs": [
    {
     "name": "stdin",
     "output_type": "stream",
     "text": [
      "Enter your name cj\n"
     ]
    },
    {
     "name": "stdout",
     "output_type": "stream",
     "text": [
      "Hello cj\n"
     ]
    }
   ],
   "source": [
    "user = input(\"Enter your name\")\n",
    "print(\"Hello\", user)"
   ]
  },
  {
   "cell_type": "code",
   "execution_count": 3,
   "id": "7e18475f-1a17-4ad5-8dde-75bc784b087a",
   "metadata": {},
   "outputs": [
    {
     "ename": "SyntaxError",
     "evalue": "invalid syntax (163323413.py, line 3)",
     "output_type": "error",
     "traceback": [
      "\u001b[1;36m  Cell \u001b[1;32mIn[3], line 3\u001b[1;36m\u001b[0m\n\u001b[1;33m    for n in range(1, abs(n)+1:\u001b[0m\n\u001b[1;37m                              ^\u001b[0m\n\u001b[1;31mSyntaxError\u001b[0m\u001b[1;31m:\u001b[0m invalid syntax\n"
     ]
    }
   ],
   "source": [
    "num = int(input(\"Enter a number:\"))\n",
    "sum:0\n",
    "for n in range(1, abs(n)+1:\n",
    "print(f\"sum:{sum of _int(num)}\")\n"
   ]
  },
  {
   "cell_type": "code",
   "execution_count": 10,
   "id": "debe5285-b29b-4d0f-804e-399f05bd669f",
   "metadata": {},
   "outputs": [
    {
     "ename": "IndentationError",
     "evalue": "expected an indented block after 'if' statement on line 3 (378404935.py, line 4)",
     "output_type": "error",
     "traceback": [
      "\u001b[1;36m  Cell \u001b[1;32mIn[10], line 4\u001b[1;36m\u001b[0m\n\u001b[1;33m    elif letter == \"y\":\u001b[0m\n\u001b[1;37m    ^\u001b[0m\n\u001b[1;31mIndentationError\u001b[0m\u001b[1;31m:\u001b[0m expected an indented block after 'if' statement on line 3\n"
     ]
    }
   ],
   "source": [
    "user = input(\"enter a letter:\")\n",
    "letter = user.lower()\n",
    "if letter == [\"a\",\"e\",\"i\",\"o\",\"u\"]:\n",
    "elif letter == \"y\":\n",
    "print(\"sometimes y is a vowel, and sometimes y is a consant\")\n",
    "else\n",
    "print(\"you have entered a constant letter!\")"
   ]
  },
  {
   "cell_type": "code",
   "execution_count": null,
   "id": "78aeef0c-fb30-4e64-b686-bf6b6ebcc824",
   "metadata": {},
   "outputs": [],
   "source": []
  },
  {
   "cell_type": "code",
   "execution_count": null,
   "id": "91e8060b-6263-40dd-820a-c657419e0bb6",
   "metadata": {},
   "outputs": [],
   "source": []
  }
 ],
 "metadata": {
  "kernelspec": {
   "display_name": "Python 3 (ipykernel)",
   "language": "python",
   "name": "python3"
  },
  "language_info": {
   "codemirror_mode": {
    "name": "ipython",
    "version": 3
   },
   "file_extension": ".py",
   "mimetype": "text/x-python",
   "name": "python",
   "nbconvert_exporter": "python",
   "pygments_lexer": "ipython3",
   "version": "3.13.5"
  }
 },
 "nbformat": 4,
 "nbformat_minor": 5
}
