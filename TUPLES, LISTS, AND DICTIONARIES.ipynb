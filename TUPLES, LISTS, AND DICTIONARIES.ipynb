{
 "cells": [
  {
   "cell_type": "markdown",
   "id": "3d6a828e-1b91-4e28-aae7-1eda93c666f1",
   "metadata": {},
   "source": [
    "# REVIEW QUESTION #1"
   ]
  },
  {
   "cell_type": "code",
   "execution_count": 4,
   "id": "44856d87-c68e-428a-a205-97b66bfac6bd",
   "metadata": {},
   "outputs": [
    {
     "name": "stdout",
     "output_type": "stream",
     "text": [
      "('FIRST', 'SECOND', 'THIRD')\n"
     ]
    }
   ],
   "source": [
    "CARDINAL_NUMBERS = (\"FIRST\", \"SECOND\", \"THIRD\")\n",
    "print(CARDINAL_NUMBERS)"
   ]
  },
  {
   "cell_type": "code",
   "execution_count": 8,
   "id": "62bef300-901c-4e11-9b46-f4b6a5f0d8cf",
   "metadata": {},
   "outputs": [
    {
     "name": "stdout",
     "output_type": "stream",
     "text": [
      "SECOND\n"
     ]
    }
   ],
   "source": [
    "CARDINAL_NUMBERS = (\"FIRST\", \"SECOND\", \"THIRD\")\n",
    "print(CARDINAL_NUMBERS[1])"
   ]
  },
  {
   "cell_type": "code",
   "execution_count": 12,
   "id": "2dc35c13-cc5e-4786-89d6-2b84a0bffac0",
   "metadata": {},
   "outputs": [
    {
     "name": "stdout",
     "output_type": "stream",
     "text": [
      "FRIRST\n",
      "SECOND\n",
      "THIRD\n"
     ]
    }
   ],
   "source": [
    "CARDINAL_NUMBERS = (\"FRIRST\", \"SECOND\", \"THIRD\")\n",
    "POS1, POS2, POS3 = CARDINAL_NUMBERS\n",
    "print(POS1)\n",
    "print(POS2)\n",
    "print(POS3)"
   ]
  },
  {
   "cell_type": "code",
   "execution_count": 9,
   "id": "cff2e10d-c6db-4f1d-b156-86e7709fc7dd",
   "metadata": {},
   "outputs": [
    {
     "name": "stdout",
     "output_type": "stream",
     "text": [
      "('C', 'J')\n"
     ]
    }
   ],
   "source": [
    "MY_NAME = tuple(\"CJ\")\n",
    "print(MY_NAME)"
   ]
  },
  {
   "cell_type": "code",
   "execution_count": 13,
   "id": "2b913ac9-a59c-45e6-8643-23842d115a8e",
   "metadata": {},
   "outputs": [
    {
     "name": "stdout",
     "output_type": "stream",
     "text": [
      "False\n"
     ]
    }
   ],
   "source": [
    "MY_NAME = tuple(\"CJ\")\n",
    "print(\"X\" in MY_NAME)"
   ]
  },
  {
   "cell_type": "code",
   "execution_count": 15,
   "id": "02ee0f9b-fe9b-4f7a-b056-4f17c6b187c1",
   "metadata": {},
   "outputs": [
    {
     "name": "stdout",
     "output_type": "stream",
     "text": [
      "('J',)\n"
     ]
    }
   ],
   "source": [
    "NEW_TUPLE = tuple(\"CJ\")\n",
    "NEW_TUPLE = MY_NAME[1:]\n",
    "print(NEW_TUPLE)"
   ]
  },
  {
   "cell_type": "markdown",
   "id": "7bc14554-9696-4600-9e19-04eaa37e45c0",
   "metadata": {},
   "source": [
    "# REVIEW QUESTION #2"
   ]
  },
  {
   "cell_type": "code",
   "execution_count": 19,
   "id": "a5352e87-853c-4feb-8b23-328d737614a7",
   "metadata": {},
   "outputs": [
    {
     "name": "stdout",
     "output_type": "stream",
     "text": [
      "['RICE', 'BEANS']\n"
     ]
    }
   ],
   "source": [
    "FOOD = [\"RICE\", \"BEANS\"]\n",
    "print(FOOD)"
   ]
  },
  {
   "cell_type": "code",
   "execution_count": 20,
   "id": "40ebf93f-4729-4a24-ab12-09f729c0e062",
   "metadata": {},
   "outputs": [
    {
     "name": "stdout",
     "output_type": "stream",
     "text": [
      "['RICE', 'BEANS', 'BROCCOLI']\n"
     ]
    }
   ],
   "source": [
    "FOOD = [\"RICE\", \"BEANS\"]\n",
    "FOOD.append(\"BROCCOLI\")\n",
    "print(FOOD)"
   ]
  },
  {
   "cell_type": "code",
   "execution_count": 22,
   "id": "5f6aaac5-ed0b-412c-8f8e-b6779bc4cd84",
   "metadata": {},
   "outputs": [
    {
     "name": "stdout",
     "output_type": "stream",
     "text": [
      "['RICE', 'BEANS', 'BROCCOLI', 'BREAD', 'PIZZA']\n"
     ]
    }
   ],
   "source": [
    "FOOD = [\"RICE\", \"BEANS\", \"BROCCOLI\"]\n",
    "FOOD.extend([\"BREAD\", \"PIZZA\"])\n",
    "print(FOOD)"
   ]
  },
  {
   "cell_type": "code",
   "execution_count": 24,
   "id": "d9c7246e-2491-46b3-a96c-201f7d88bd43",
   "metadata": {},
   "outputs": [
    {
     "name": "stdout",
     "output_type": "stream",
     "text": [
      "['RICE', 'BEANS']\n"
     ]
    }
   ],
   "source": [
    "FOOD = [\"RICE\", \"BEANS\", \"BROCCOLI\", \"BREAD\", \"PIZZA\"]\n",
    "print(FOOD[:2])"
   ]
  },
  {
   "cell_type": "code",
   "execution_count": 25,
   "id": "6e8e080c-468c-48aa-b3d7-f899cfb10141",
   "metadata": {},
   "outputs": [
    {
     "name": "stdout",
     "output_type": "stream",
     "text": [
      "PIZZA\n"
     ]
    }
   ],
   "source": [
    "FOOD = [\"RICE\", \"BEANS\", \"BROCCOLI\", \"BREAD\", \"PIZZA\"]\n",
    "print(FOOD[-1])"
   ]
  },
  {
   "cell_type": "code",
   "execution_count": 26,
   "id": "edcf69bc-c725-4a08-9043-c1c7f08593a9",
   "metadata": {},
   "outputs": [
    {
     "name": "stdout",
     "output_type": "stream",
     "text": [
      "['EGGS', 'FRUIT', 'ORANGE JUICE']\n"
     ]
    }
   ],
   "source": [
    "BREAKFAST = \"EGGS, FRUIT, ORANGE JUICE\".split(\", \")\n",
    "print(BREAKFAST)"
   ]
  },
  {
   "cell_type": "code",
   "execution_count": 27,
   "id": "03a4e1c5-4d5c-4ae4-a909-cb9c4d5cf0cb",
   "metadata": {},
   "outputs": [
    {
     "name": "stdout",
     "output_type": "stream",
     "text": [
      "3\n"
     ]
    }
   ],
   "source": [
    "BREAKFAST = \"EGGS, FRUIT, ORANGE JUICE\".split(\", \")\n",
    "print(len(BREAKFAST))"
   ]
  },
  {
   "cell_type": "code",
   "execution_count": 28,
   "id": "9383add4-11b6-418f-9f44-6e76b040f9e1",
   "metadata": {},
   "outputs": [
    {
     "name": "stdout",
     "output_type": "stream",
     "text": [
      "[4, 5, 12]\n"
     ]
    }
   ],
   "source": [
    "BREAKFAST = [\"EGGS\", \"FRUIT\", \"ORANGE JUICE\"]\n",
    "LENGTHS = [len(item) for item in BREAKFAST]\n",
    "print(LENGTHS)"
   ]
  },
  {
   "cell_type": "markdown",
   "id": "64a352fe-7698-463e-85e8-c323eaa7cf35",
   "metadata": {},
   "source": [
    "# REVIEW QUESTION #3"
   ]
  },
  {
   "cell_type": "code",
   "execution_count": 29,
   "id": "d299ebd5-bf2d-417b-a9ba-e599800c910e",
   "metadata": {},
   "outputs": [
    {
     "name": "stdout",
     "output_type": "stream",
     "text": [
      "((1, 2), (3, 4))\n"
     ]
    }
   ],
   "source": [
    "DATA = ((1, 2), (3, 4))\n",
    "print(DATA)"
   ]
  },
  {
   "cell_type": "code",
   "execution_count": 30,
   "id": "570f6f73-3400-4e57-9fd3-99ffb288b022",
   "metadata": {},
   "outputs": [
    {
     "name": "stdout",
     "output_type": "stream",
     "text": [
      "Row 1 sum: 3\n",
      "Row 2 sum: 7\n"
     ]
    }
   ],
   "source": [
    "DATA = ((1, 2), (3, 4))\n",
    "for index, item in enumerate(DATA, start=1):\n",
    "    print(f\"Row {index} sum: {sum(item)}\")"
   ]
  },
  {
   "cell_type": "code",
   "execution_count": 31,
   "id": "8cef303a-9265-4a30-a4fc-c802322d0ca1",
   "metadata": {},
   "outputs": [
    {
     "name": "stdout",
     "output_type": "stream",
     "text": [
      "Original: [5, 2, 9, 1, 7]\n",
      "Copy: [5, 2, 9, 1, 7]\n"
     ]
    }
   ],
   "source": [
    "NUMBERS = [5, 2, 9, 1, 7]\n",
    "NUMBERS_COPY = NUMBERS[:]\n",
    "print(\"Original:\", NUMBERS)\n",
    "print(\"Copy:\", NUMBERS_COPY)"
   ]
  },
  {
   "cell_type": "code",
   "execution_count": 32,
   "id": "d991393f-be8c-4cb0-bb42-157e46edd144",
   "metadata": {},
   "outputs": [
    {
     "name": "stdout",
     "output_type": "stream",
     "text": [
      "Sorted: [1, 2, 5, 7, 9]\n"
     ]
    }
   ],
   "source": [
    "NUMBERS = [5, 2, 9, 1, 7]\n",
    "NUMBERS.sort()\n",
    "print(\"Sorted:\", NUMBERS)"
   ]
  },
  {
   "cell_type": "markdown",
   "id": "6b5946b8-631c-443c-bd51-836e28be0905",
   "metadata": {},
   "source": [
    "# CHALLENGE: LIST OF LIST"
   ]
  },
  {
   "cell_type": "code",
   "execution_count": 36,
   "id": "ea18b20a-fe59-46db-984a-91f4338ba9c2",
   "metadata": {},
   "outputs": [
    {
     "name": "stdout",
     "output_type": "stream",
     "text": [
      "['California Institute of Technology', 2175, 37704]\n",
      "['Harvard', 19627, 39849]\n",
      "['Massachusetts Institute of Technology', 10566, 40732]\n",
      "['Princeton', 7802, 37000]\n",
      "['Rice', 5879, 35551]\n",
      "['Stanford', 19535, 40569]\n",
      "['Yale', 11701, 40500]\n"
     ]
    }
   ],
   "source": [
    "universities = [\n",
    "    ['California Institute of Technology', 2175, 37704],\n",
    "    ['Harvard', 19627, 39849],\n",
    "    ['Massachusetts Institute of Technology', 10566, 40732],\n",
    "    ['Princeton', 7802, 37000],\n",
    "    ['Rice', 5879, 35551],\n",
    "    ['Stanford', 19535, 40569],\n",
    "    ['Yale', 11701, 40500]\n",
    "]\n",
    "for uni in universities:\n",
    "    print(uni)\n"
   ]
  },
  {
   "cell_type": "markdown",
   "id": "e02de0fc-b3b8-4f23-ab38-f2452ab3344c",
   "metadata": {},
   "source": [
    "# CHALLENGE: WAX POETIC"
   ]
  },
  {
   "cell_type": "code",
   "execution_count": 37,
   "id": "732f9100-2bd3-4af6-b71d-594334b00603",
   "metadata": {},
   "outputs": [
    {
     "name": "stdout",
     "output_type": "stream",
     "text": [
      "Nouns: ['FOSSIL', 'HORSE', 'AARDVARK', 'JUDGE', 'CHEF', 'MANGO', 'EXTROVERT', 'GORILLA']\n",
      "Verbs: ['KICKS', 'JINGLES', 'BOUNCES', 'SLURPS', 'MEOWS', 'EXPLODES', 'CURDLES']\n",
      "Adjectives: ['FURRY', 'BALDING', 'INCREDULOUS', 'FRAGRANT', 'EXUBERANT', 'GLISTENING']\n",
      "Prepositions: ['AGAINST', 'AFTER', 'INTO', 'BENEATH', 'UPON', 'FOR', 'IN', 'LIKE', 'OVER', 'WITHIN']\n",
      "Adverbs: ['CURIOUSLY', 'FURIOUSLY', 'SENSUOUSLY', 'EXTRAVAGANTLY', 'TANTALIZINGLY']\n"
     ]
    }
   ],
   "source": [
    "nouns = [\"FOSSIL\", \"HORSE\", \"AARDVARK\", \"JUDGE\", \"CHEF\", \"MANGO\", \"EXTROVERT\", \"GORILLA\"]\n",
    "verbs = [\"KICKS\", \"JINGLES\", \"BOUNCES\", \"SLURPS\", \"MEOWS\", \"EXPLODES\", \"CURDLES\"]\n",
    "adjectives = [\"FURRY\", \"BALDING\", \"INCREDULOUS\", \"FRAGRANT\", \"EXUBERANT\", \"GLISTENING\"]\n",
    "prepositions = [\"AGAINST\", \"AFTER\", \"INTO\", \"BENEATH\", \"UPON\", \"FOR\", \"IN\", \"LIKE\", \"OVER\", \"WITHIN\"]\n",
    "adverbs = [\"CURIOUSLY\", \"FURIOUSLY\", \"SENSUOUSLY\", \"EXTRAVAGANTLY\", \"TANTALIZINGLY\"]\n",
    "\n",
    "print(\"Nouns:\", nouns)\n",
    "print(\"Verbs:\", verbs)\n",
    "print(\"Adjectives:\", adjectives)\n",
    "print(\"Prepositions:\", prepositions)\n",
    "print(\"Adverbs:\", adverbs)\n"
   ]
  },
  {
   "cell_type": "markdown",
   "id": "5304a23d-4ff2-4720-8de6-a4f22aa9e74c",
   "metadata": {},
   "source": [
    "# REVIEW QUESTION #4"
   ]
  },
  {
   "cell_type": "code",
   "execution_count": 38,
   "id": "1cf02ddc-6350-4783-8594-9714ec0be279",
   "metadata": {},
   "outputs": [
    {
     "name": "stdout",
     "output_type": "stream",
     "text": [
      "{}\n"
     ]
    }
   ],
   "source": [
    "captains = {}\n",
    "print(captains)"
   ]
  },
  {
   "cell_type": "code",
   "execution_count": 44,
   "id": "cbc31585-c9f1-4fb9-9f88-1b039b217f42",
   "metadata": {},
   "outputs": [
    {
     "name": "stdout",
     "output_type": "stream",
     "text": [
      "'Enterprise': 'Picard'\n",
      "'Voyager': 'Janeway'\n",
      "'Defiant': 'Sisko'\n"
     ]
    }
   ],
   "source": [
    "captains = {}\n",
    "\n",
    "captains[\"Enterprise\"] = \"Picard\"\n",
    "captains[\"Voyager\"] = \"Janeway\"\n",
    "captains[\"Defiant\"] = \"Sisko\"\n",
    "\n",
    "for ship, captain in captains.items():\n",
    "    print(f\"'{ship}': '{captain}'\")\n"
   ]
  },
  {
   "cell_type": "code",
   "execution_count": 40,
   "id": "e9f0ad37-c650-4361-8173-5141f17ee608",
   "metadata": {},
   "outputs": [
    {
     "name": "stdout",
     "output_type": "stream",
     "text": [
      "{'Enterprise': 'Picard', 'Voyager': 'Janeway', 'Defiant': 'Sisko', 'Discovery': 'Unknown'}\n"
     ]
    }
   ],
   "source": [
    "if \"Enterprise\" not in captains:\n",
    "    captains[\"Enterprise\"] = \"Unknown\"\n",
    "\n",
    "if \"Discovery\" not in captains:\n",
    "    captains[\"Discovery\"] = \"Unknown\"\n",
    "\n",
    "print(captains)\n"
   ]
  },
  {
   "cell_type": "code",
   "execution_count": 45,
   "id": "cb264f54-a488-48b6-be77-83b25e315c0d",
   "metadata": {},
   "outputs": [
    {
     "name": "stdout",
     "output_type": "stream",
     "text": [
      "The Enterprise is captained by Picard.\n"
     ]
    }
   ],
   "source": [
    "captains = {\n",
    "    \"Enterprise\": \"Picard\",\n",
    "    \"Voyager\": \"Janeway\",\n",
    "    \"Defiant\": \"Sisko\",\n",
    "    \"Discovery\": \"Unknown\"\n",
    "}\n",
    "\n",
    "print(f\"The Enterprise is captained by {captains['Enterprise']}.\")\n"
   ]
  },
  {
   "cell_type": "markdown",
   "id": "fff088b2-4940-41c3-b08f-2376a89740af",
   "metadata": {},
   "source": [
    "# REVIEW QUESTION #5"
   ]
  },
  {
   "cell_type": "code",
   "execution_count": 46,
   "id": "aee7d72a-80ea-42e9-8914-56639464fc9d",
   "metadata": {},
   "outputs": [
    {
     "name": "stdout",
     "output_type": "stream",
     "text": [
      "{'Enterprise': 'Picard', 'Voyager': 'Janeway', 'Defiant': 'Sisko'}\n"
     ]
    }
   ],
   "source": [
    "captains = {\n",
    "    \"Enterprise\": \"Picard\",\n",
    "    \"Voyager\": \"Janeway\",\n",
    "    \"Defiant\": \"Sisko\",\n",
    "    \"Discovery\": \"Unknown\"\n",
    "}\n",
    "\n",
    "del captains[\"Discovery\"]\n",
    "\n",
    "print(captains)\n"
   ]
  },
  {
   "cell_type": "code",
   "execution_count": 47,
   "id": "1edd3ba2-ad51-4f41-b690-1a1b44f15d1d",
   "metadata": {},
   "outputs": [
    {
     "name": "stdout",
     "output_type": "stream",
     "text": [
      "{'Enterprise': 'Picard', 'Voyager': 'Janeway', 'Defiant': 'Sisko', 'Discovery': 'Unknown'}\n"
     ]
    }
   ],
   "source": [
    "captains = dict(\n",
    "    Enterprise=\"Picard\",\n",
    "    Voyager=\"Janeway\",\n",
    "    Defiant=\"Sisko\",\n",
    "    Discovery=\"Unknown\"\n",
    ")\n",
    "\n",
    "print(captains)\n"
   ]
  },
  {
   "cell_type": "markdown",
   "id": "b93b5e5d-f0ed-4455-8c28-7c05ec1f9b57",
   "metadata": {},
   "source": [
    "# CHALLENGE: CAPITAL CITY LOOP"
   ]
  },
  {
   "cell_type": "code",
   "execution_count": 48,
   "id": "847a571b-7936-4053-8f14-c5878ea501e6",
   "metadata": {},
   "outputs": [
    {
     "name": "stdout",
     "output_type": "stream",
     "text": [
      "The capital of Alabama is Montgomery.\n",
      "The capital of Alaska is Juneau.\n",
      "The capital of Arizona is Phoenix.\n",
      "The capital of Arkansas is Little Rock.\n",
      "The capital of California is Sacramento.\n",
      "The capital of Colorado is Denver.\n",
      "The capital of Connecticut is Hartford.\n",
      "The capital of Delaware is Dover.\n",
      "The capital of Florida is Tallahassee.\n",
      "The capital of Georgia is Atlanta.\n"
     ]
    }
   ],
   "source": [
    "capitals_dict = {\n",
    "    'Alabama': 'Montgomery',\n",
    "    'Alaska': 'Juneau',\n",
    "    'Arizona': 'Phoenix',\n",
    "    'Arkansas': 'Little Rock',\n",
    "    'California': 'Sacramento',\n",
    "    'Colorado': 'Denver',\n",
    "    'Connecticut': 'Hartford',\n",
    "    'Delaware': 'Dover',\n",
    "    'Florida': 'Tallahassee',\n",
    "    'Georgia': 'Atlanta',\n",
    "}\n",
    "\n",
    "for state, capital in capitals_dict.items():\n",
    "    print(f\"The capital of {state} is {capital}.\")\n"
   ]
  }
 ],
 "metadata": {
  "kernelspec": {
   "display_name": "Python 3 (ipykernel)",
   "language": "python",
   "name": "python3"
  },
  "language_info": {
   "codemirror_mode": {
    "name": "ipython",
    "version": 3
   },
   "file_extension": ".py",
   "mimetype": "text/x-python",
   "name": "python",
   "nbconvert_exporter": "python",
   "pygments_lexer": "ipython3",
   "version": "3.13.5"
  }
 },
 "nbformat": 4,
 "nbformat_minor": 5
}
