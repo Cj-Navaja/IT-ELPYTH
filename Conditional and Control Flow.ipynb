{
 "cells": [
  {
   "cell_type": "markdown",
   "id": "a3578efa-fc29-4e49-b266-c1d7cbbbfb0c",
   "metadata": {},
   "source": [
    "# Review Question #1"
   ]
  },
  {
   "cell_type": "code",
   "execution_count": 2,
   "id": "63c2c277-2ac7-44bf-a637-737cc88e1e50",
   "metadata": {},
   "outputs": [
    {
     "name": "stdout",
     "output_type": "stream",
     "text": [
      "True\n"
     ]
    }
   ],
   "source": [
    "print(1 <= 1)"
   ]
  },
  {
   "cell_type": "code",
   "execution_count": 3,
   "id": "aa9b3035-6bf7-476a-8d3d-e697b533910c",
   "metadata": {},
   "outputs": [
    {
     "name": "stdout",
     "output_type": "stream",
     "text": [
      "False\n"
     ]
    }
   ],
   "source": [
    "print(1 != 1)"
   ]
  },
  {
   "cell_type": "code",
   "execution_count": 4,
   "id": "f1d3db4d-855b-4aa1-bf53-464bf6c777fc",
   "metadata": {},
   "outputs": [
    {
     "name": "stdout",
     "output_type": "stream",
     "text": [
      "True\n"
     ]
    }
   ],
   "source": [
    "print(1 != 2)"
   ]
  },
  {
   "cell_type": "code",
   "execution_count": 5,
   "id": "28420cc2-3d52-4a08-9fcb-cd11e9db661f",
   "metadata": {},
   "outputs": [
    {
     "name": "stdout",
     "output_type": "stream",
     "text": [
      "True\n"
     ]
    }
   ],
   "source": [
    "print(\"good\" != \"bad\")"
   ]
  },
  {
   "cell_type": "code",
   "execution_count": 6,
   "id": "ec55f78c-7c94-4fbf-a1a8-7ad20b27d55e",
   "metadata": {},
   "outputs": [
    {
     "name": "stdout",
     "output_type": "stream",
     "text": [
      "True\n"
     ]
    }
   ],
   "source": [
    "print(\"good\" != \"Good\")"
   ]
  },
  {
   "cell_type": "code",
   "execution_count": 7,
   "id": "8192eb83-e220-4aed-a251-078414e0d519",
   "metadata": {},
   "outputs": [
    {
     "name": "stdout",
     "output_type": "stream",
     "text": [
      "False\n"
     ]
    }
   ],
   "source": [
    "print(123 == \"123\")"
   ]
  },
  {
   "cell_type": "markdown",
   "id": "735c1302-a2ba-4976-b325-536753773e7e",
   "metadata": {},
   "source": [
    "# Number 2 #"
   ]
  },
  {
   "cell_type": "code",
   "execution_count": 18,
   "id": "aad36ed5-4d8d-4dcb-8039-91a5e9cc0a54",
   "metadata": {},
   "outputs": [
    {
     "name": "stdout",
     "output_type": "stream",
     "text": [
      "True\n"
     ]
    }
   ],
   "source": [
    "print(3 <= 4)"
   ]
  },
  {
   "cell_type": "code",
   "execution_count": 10,
   "id": "ec0efec7-4782-49a4-af7c-35fc1a325403",
   "metadata": {},
   "outputs": [
    {
     "name": "stdout",
     "output_type": "stream",
     "text": [
      "True\n"
     ]
    }
   ],
   "source": [
    "print(10 >= 5)"
   ]
  },
  {
   "cell_type": "code",
   "execution_count": 14,
   "id": "32a741eb-b456-44a1-a38a-efb18c3609c5",
   "metadata": {},
   "outputs": [
    {
     "name": "stdout",
     "output_type": "stream",
     "text": [
      "True\n"
     ]
    }
   ],
   "source": [
    "print(\"jack\" != \"jill\")"
   ]
  },
  {
   "cell_type": "code",
   "execution_count": 15,
   "id": "6db86a21-cfbf-4eee-a699-6ca01dbd5de5",
   "metadata": {},
   "outputs": [
    {
     "name": "stdout",
     "output_type": "stream",
     "text": [
      "True\n"
     ]
    }
   ],
   "source": [
    "print(42 != \"42\")"
   ]
  },
  {
   "cell_type": "markdown",
   "id": "89af6459-33aa-4507-9bda-8c550e48c752",
   "metadata": {},
   "source": [
    "# Review Question #2"
   ]
  },
  {
   "cell_type": "code",
   "execution_count": 16,
   "id": "6ab48784-3bc8-4b69-b23a-90e1453ad249",
   "metadata": {},
   "outputs": [
    {
     "name": "stdout",
     "output_type": "stream",
     "text": [
      "False\n"
     ]
    }
   ],
   "source": [
    "print((1 <= 1) and (1 != 1))"
   ]
  },
  {
   "cell_type": "code",
   "execution_count": 21,
   "id": "7b3f0327-be48-4f9d-a426-747f1356346b",
   "metadata": {},
   "outputs": [
    {
     "name": "stdout",
     "output_type": "stream",
     "text": [
      "False\n"
     ]
    }
   ],
   "source": [
    "print(not (1 !=2))"
   ]
  },
  {
   "cell_type": "code",
   "execution_count": 11,
   "id": "40572c0c-d2ad-4c37-9671-d9863796a87b",
   "metadata": {},
   "outputs": [
    {
     "name": "stdout",
     "output_type": "stream",
     "text": [
      "True\n"
     ]
    }
   ],
   "source": [
    "print((\"good\" != \"bad\") or False)"
   ]
  },
  {
   "cell_type": "code",
   "execution_count": 25,
   "id": "692ccdc4-4262-4250-8a05-729323863ab8",
   "metadata": {},
   "outputs": [
    {
     "name": "stdout",
     "output_type": "stream",
     "text": [
      "False\n"
     ]
    }
   ],
   "source": [
    "print((\"good\" != \"Good\") and not (1 == 1))"
   ]
  },
  {
   "cell_type": "code",
   "execution_count": 30,
   "id": "0e4d547e-9889-40a6-a5e9-19e8e2ece670",
   "metadata": {},
   "outputs": [
    {
     "name": "stdout",
     "output_type": "stream",
     "text": [
      "True\n"
     ]
    }
   ],
   "source": [
    "print((False) == (not True))"
   ]
  },
  {
   "cell_type": "code",
   "execution_count": 31,
   "id": "4bc8d5c5-b360-42cb-9915-67c96590a7a5",
   "metadata": {},
   "outputs": [
    {
     "name": "stdout",
     "output_type": "stream",
     "text": [
      "True\n"
     ]
    }
   ],
   "source": [
    "print((True and False) == (True and False))"
   ]
  },
  {
   "cell_type": "code",
   "execution_count": 32,
   "id": "6812fc7f-24f4-4e75-af5f-73a4df095a8d",
   "metadata": {},
   "outputs": [
    {
     "name": "stdout",
     "output_type": "stream",
     "text": [
      "False\n"
     ]
    }
   ],
   "source": [
    "print((not True) and (\"A\" == \"B\"))"
   ]
  },
  {
   "cell_type": "code",
   "execution_count": 33,
   "id": "b700295f-78ba-4533-b6fb-850c31a3be81",
   "metadata": {},
   "outputs": [
    {
     "name": "stdout",
     "output_type": "stream",
     "text": [
      "False\n"
     ]
    }
   ],
   "source": [
    "print((not True) and (\"A\" == \"B\"))"
   ]
  },
  {
   "cell_type": "markdown",
   "id": "46af7f93-6e14-492f-bc09-32591db24f66",
   "metadata": {},
   "source": [
    "# Review Question #3"
   ]
  },
  {
   "cell_type": "code",
   "execution_count": 46,
   "id": "8ebb5b5f-40ad-4112-b6c4-304a36743eba",
   "metadata": {},
   "outputs": [
    {
     "name": "stdin",
     "output_type": "stream",
     "text": [
      "enter a word asdfg\n"
     ]
    },
    {
     "name": "stdout",
     "output_type": "stream",
     "text": [
      "The word asdfg is equal to 5 char\n"
     ]
    }
   ],
   "source": [
    "user = input(\"enter a word\")\n",
    "var = user\n",
    "var1 = len(user)\n",
    "\n",
    "if var1 < 5:\n",
    "    print(f\"The word {user} is less than 5 char\")\n",
    "elif var1 > 5:\n",
    "    print(f\"The word {user} is more than 5 char\")\n",
    "else:\n",
    "    print(f\"The word {user} is equal to 5 char\")"
   ]
  },
  {
   "cell_type": "markdown",
   "id": "0a6ac903-11a3-4794-b863-291818d289a2",
   "metadata": {},
   "source": [
    "# Review Question #4"
   ]
  },
  {
   "cell_type": "code",
   "execution_count": 10,
   "id": "15ae6faf-39c9-4cd7-835e-48398e8fb9b0",
   "metadata": {},
   "outputs": [
    {
     "name": "stdin",
     "output_type": "stream",
     "text": [
      "Enter something: ('enter Q to exit'):  gwapo ko ana ako mama\n"
     ]
    },
    {
     "name": "stdout",
     "output_type": "stream",
     "text": [
      "You entered: gwapo ko ana ako mama\n"
     ]
    },
    {
     "name": "stdin",
     "output_type": "stream",
     "text": [
      "Enter something: ('enter Q to exit'):  tinuod man sad\n"
     ]
    },
    {
     "name": "stdout",
     "output_type": "stream",
     "text": [
      "You entered: tinuod man sad\n"
     ]
    },
    {
     "name": "stdin",
     "output_type": "stream",
     "text": [
      "Enter something: ('enter Q to exit'):  q\n"
     ]
    },
    {
     "name": "stdout",
     "output_type": "stream",
     "text": [
      "Exit, Thank You!\n"
     ]
    }
   ],
   "source": [
    "while True:\n",
    "    user = input(\"Enter something: ('enter Q to exit'): \")\n",
    "    \n",
    "    if user == \"Q\":\n",
    "        print(\"Exit, Thank You!\")\n",
    "        break\n",
    "    elif user == \"q\":\n",
    "        print(\"Exit, Thank You!\")\n",
    "        break\n",
    "    else:\n",
    "        print(\"You entered:\", user)\n"
   ]
  },
  {
   "cell_type": "code",
   "execution_count": 12,
   "id": "d6028864-1e1b-42d6-b45d-e2d4476227f5",
   "metadata": {},
   "outputs": [
    {
     "name": "stdout",
     "output_type": "stream",
     "text": [
      "1\n",
      "2\n",
      "4\n",
      "5\n",
      "7\n",
      "8\n",
      "10\n",
      "11\n",
      "13\n",
      "14\n",
      "16\n",
      "17\n",
      "19\n",
      "20\n",
      "22\n",
      "23\n",
      "25\n",
      "26\n",
      "28\n",
      "29\n",
      "31\n",
      "32\n",
      "34\n",
      "35\n",
      "37\n",
      "38\n",
      "40\n",
      "41\n",
      "43\n",
      "44\n",
      "46\n",
      "47\n",
      "49\n",
      "50\n"
     ]
    }
   ],
   "source": [
    "for num in range(1, 51):   \n",
    "    if num % 3 == 0:       \n",
    "        continue           \n",
    "    print(num)"
   ]
  },
  {
   "cell_type": "markdown",
   "id": "3dfeb7df-edb9-47d1-850a-a71414512ef0",
   "metadata": {},
   "source": [
    "# Review Question #5"
   ]
  },
  {
   "cell_type": "code",
   "execution_count": 14,
   "id": "e03ea092-f5a3-4eaa-a70b-39aa3fec767b",
   "metadata": {},
   "outputs": [
    {
     "name": "stdin",
     "output_type": "stream",
     "text": [
      "Enter an integer:  a\n"
     ]
    },
    {
     "name": "stdout",
     "output_type": "stream",
     "text": [
      "Try again! That’s not an integer.\n"
     ]
    },
    {
     "name": "stdin",
     "output_type": "stream",
     "text": [
      "Enter an integer:  1\n"
     ]
    },
    {
     "name": "stdout",
     "output_type": "stream",
     "text": [
      "You entered: 1\n"
     ]
    }
   ],
   "source": [
    "while True:\n",
    "    try:\n",
    "        num = int(input(\"Enter an integer: \"))\n",
    "        print(\"You entered:\", num)\n",
    "        break\n",
    "    except ValueError:  \n",
    "         print(\"Try again! That’s not an integer.\")"
   ]
  },
  {
   "cell_type": "code",
   "execution_count": 20,
   "id": "f2ad9046-26b7-4ebf-a219-2c06d8c271ac",
   "metadata": {},
   "outputs": [
    {
     "name": "stdin",
     "output_type": "stream",
     "text": [
      "Enter a string:  cj\n",
      "Enter an index number:  1\n"
     ]
    },
    {
     "name": "stdout",
     "output_type": "stream",
     "text": [
      "Characters at index 1 is: j\n"
     ]
    }
   ],
   "source": [
    "text = input(\"Enter a string: \")\n",
    "n = int(input(\"Enter an index number: \"))\n",
    "if 0 <= n <len(text):\n",
    "        print(\"Characters at index\", n, \"is:\", text[n])\n",
    "else:\n",
    "        print(\"Index out of range!\")"
   ]
  },
  {
   "cell_type": "code",
   "execution_count": 23,
   "id": "6653d06d-7954-44ed-8a9c-a7f1c990b261",
   "metadata": {},
   "outputs": [
    {
     "name": "stdout",
     "output_type": "stream",
     "text": [
      "You rolled: 5\n"
     ]
    }
   ],
   "source": [
    "import random \n",
    "def roll():\n",
    "    return random.randint(1,6)\n",
    "print(\"You rolled:\", roll())"
   ]
  },
  {
   "cell_type": "code",
   "execution_count": 27,
   "id": "271a44c1-d92c-489b-9a4c-ec76735bce0b",
   "metadata": {},
   "outputs": [
    {
     "name": "stdout",
     "output_type": "stream",
     "text": [
      "Average number rolled after 10,000 rolls is: 3.4969\n"
     ]
    }
   ],
   "source": [
    "import random\n",
    "total = 0\n",
    "rolls = 10000\n",
    "\n",
    "for i in range(rolls):\n",
    "    total += random.randint(1,6)\n",
    "average = total / rolls\n",
    "print(\"Average number rolled after 10,000 rolls is:\", average)"
   ]
  },
  {
   "cell_type": "code",
   "execution_count": 33,
   "id": "6c5671c0-2dd3-45d4-9a8c-d6a5720b2d2b",
   "metadata": {},
   "outputs": [
    {
     "name": "stdout",
     "output_type": "stream",
     "text": [
      "Estimated probability Candidate A wins overall: 0.6299\n"
     ]
    }
   ],
   "source": [
    "import random\n",
    "\n",
    "prob_region = [0.87, 0.65, 0.17]\n",
    "\n",
    "trials = 100000\n",
    "a_wins = 0\n",
    "\n",
    "for _ in range(trials):\n",
    "    wins = 0\n",
    "    for p in prob_region:\n",
    "        if random.random() < p: \n",
    "            wins += 1\n",
    "    if wins >= 2:  \n",
    "        a_wins += 1\n",
    "\n",
    "probability = a_wins / trials\n",
    "print(f\"Estimated probability Candidate A wins overall: {probability:.4f}\")\n"
   ]
  },
  {
   "cell_type": "code",
   "execution_count": null,
   "id": "b31cffe8-48e9-41ef-8568-59a3f971f962",
   "metadata": {},
   "outputs": [],
   "source": []
  }
 ],
 "metadata": {
  "kernelspec": {
   "display_name": "Python 3 (ipykernel)",
   "language": "python",
   "name": "python3"
  },
  "language_info": {
   "codemirror_mode": {
    "name": "ipython",
    "version": 3
   },
   "file_extension": ".py",
   "mimetype": "text/x-python",
   "name": "python",
   "nbconvert_exporter": "python",
   "pygments_lexer": "ipython3",
   "version": "3.13.5"
  }
 },
 "nbformat": 4,
 "nbformat_minor": 5
}
