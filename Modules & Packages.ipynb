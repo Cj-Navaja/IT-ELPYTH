{
 "cells": [
  {
   "cell_type": "markdown",
   "id": "24e4b168-1507-42b5-a86c-b3f3639e7126",
   "metadata": {},
   "source": [
    "# Review Question #1"
   ]
  },
  {
   "cell_type": "code",
   "execution_count": 4,
   "id": "5fe659c6-df8a-45d4-aba6-0a65ea699739",
   "metadata": {},
   "outputs": [],
   "source": [
    "def greet(name):\n",
    "    print(f\"Hello {name}!\")"
   ]
  },
  {
   "cell_type": "code",
   "execution_count": 5,
   "id": "40f40a64-60b2-4f98-a90c-982da030b698",
   "metadata": {},
   "outputs": [
    {
     "name": "stdout",
     "output_type": "stream",
     "text": [
      "Hello Real Python!\n"
     ]
    }
   ],
   "source": [
    "# 2\n",
    "greet(\"Real Python\")"
   ]
  },
  {
   "cell_type": "markdown",
   "id": "6184d3ac-7504-43e1-b79c-954ccfdb0ec4",
   "metadata": {},
   "source": [
    "# Review Question #2"
   ]
  },
  {
   "cell_type": "code",
   "execution_count": 8,
   "id": "539aa683-ddc8-4448-a102-569dfae51776",
   "metadata": {},
   "outputs": [],
   "source": [
    "import os\n",
    "\n",
    "os.makedirs(\"package_exercises/helpers\", exist_ok=True)\n",
    "\n",
    "with open(\"package_exercises/helpers/__init__.py\", \"w\") as f:\n",
    "    pass"
   ]
  },
  {
   "cell_type": "code",
   "execution_count": 9,
   "id": "9f42feea-619c-49ac-99c8-e5dff3e33627",
   "metadata": {},
   "outputs": [
    {
     "name": "stdout",
     "output_type": "stream",
     "text": [
      "Writing package_exercises/helpers/string.py\n"
     ]
    }
   ],
   "source": [
    "%%writefile package_exercises/helpers/string.py\n",
    "\n",
    "def shout(text):\n",
    "    \"\"\"Return the text in all uppercase letters.\"\"\"\n",
    "    return text.upper()"
   ]
  },
  {
   "cell_type": "code",
   "execution_count": 10,
   "id": "f439e99c-ad8f-489c-bdf6-187da5f5d2f0",
   "metadata": {},
   "outputs": [
    {
     "name": "stdout",
     "output_type": "stream",
     "text": [
      "Writing package_exercises/helpers/math.py\n"
     ]
    }
   ],
   "source": [
    "%%writefile package_exercises/helpers/math.py\n",
    "\n",
    "def area(length, width):\n",
    "    \"\"\"Return the area of a rectangle (length × width).\"\"\"\n",
    "    return length * width"
   ]
  },
  {
   "cell_type": "code",
   "execution_count": 12,
   "id": "b4f2351b-6e58-437b-a0ca-03bf212df180",
   "metadata": {},
   "outputs": [
    {
     "name": "stdout",
     "output_type": "stream",
     "text": [
      "Overwriting package_exercises/main.py\n"
     ]
    }
   ],
   "source": [
    "%%writefile package_exercises/main.py\n",
    "\n",
    "from helpers.string import shout\n",
    "from helpers.math import area\n",
    "\n",
    "length = 5\n",
    "width = 8\n",
    "result = area(length, width)\n",
    "\n",
    "message = f\"The area of a {length}-by-{width} rectangle is {result}\"\n",
    "print(shout(message))"
   ]
  },
  {
   "cell_type": "code",
   "execution_count": 13,
   "id": "76d0cc6a-2302-4b1d-a05a-484ada83a7ff",
   "metadata": {},
   "outputs": [
    {
     "name": "stdout",
     "output_type": "stream",
     "text": [
      "THE AREA OF A 5-BY-8 RECTANGLE IS 40\n"
     ]
    }
   ],
   "source": [
    "!python package_exercises/main.py"
   ]
  },
  {
   "cell_type": "code",
   "execution_count": null,
   "id": "fc14e7c6-bc29-46e2-8cb1-887c7e55f649",
   "metadata": {},
   "outputs": [],
   "source": []
  }
 ],
 "metadata": {
  "kernelspec": {
   "display_name": "Python 3 (ipykernel)",
   "language": "python",
   "name": "python3"
  },
  "language_info": {
   "codemirror_mode": {
    "name": "ipython",
    "version": 3
   },
   "file_extension": ".py",
   "mimetype": "text/x-python",
   "name": "python",
   "nbconvert_exporter": "python",
   "pygments_lexer": "ipython3",
   "version": "3.13.5"
  }
 },
 "nbformat": 4,
 "nbformat_minor": 5
}
