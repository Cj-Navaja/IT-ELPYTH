{
 "cells": [
  {
   "cell_type": "markdown",
   "id": "e45aa55a-d538-4524-9adc-7ba1c0c139b2",
   "metadata": {},
   "source": [
    "# Review Question #1"
   ]
  },
  {
   "cell_type": "code",
   "execution_count": 1,
   "id": "2dbb34a1-54de-47c4-8b92-fba7a10a3eba",
   "metadata": {},
   "outputs": [
    {
     "name": "stdout",
     "output_type": "stream",
     "text": [
      "8\n",
      "27\n",
      "125\n"
     ]
    }
   ],
   "source": [
    "def cube(number):\n",
    "    return number ** 3\n",
    "print(cube(2))\n",
    "print(cube(3))\n",
    "print(cube(5))"
   ]
  },
  {
   "cell_type": "code",
   "execution_count": 10,
   "id": "4f866acf-e7d3-4513-a126-18d6b2850024",
   "metadata": {},
   "outputs": [
    {
     "name": "stdout",
     "output_type": "stream",
     "text": [
      "Hello Cj Navaja!\n"
     ]
    }
   ],
   "source": [
    "def greet(name):\n",
    "    print(\"Hello \" + name + \"!\")\n",
    "greet(\"Cj Navaja\")"
   ]
  },
  {
   "cell_type": "markdown",
   "id": "f04105b6-2177-4153-ad2c-7cd5bcfe8aad",
   "metadata": {},
   "source": [
    "# Challenge:Convert Temperatures"
   ]
  },
  {
   "cell_type": "code",
   "execution_count": 16,
   "id": "d731ff27-1c47-4e31-955f-29bddcd8a128",
   "metadata": {},
   "outputs": [
    {
     "name": "stdin",
     "output_type": "stream",
     "text": [
      "enter temperature in Celsius:  37\n"
     ]
    },
    {
     "name": "stdout",
     "output_type": "stream",
     "text": [
      "37.0 degrees C = 98.60 degrees F\n"
     ]
    }
   ],
   "source": [
    "def convert_cel_to_far(celsius):\n",
    "    return (celsius * 9/5) + 32\n",
    "    \n",
    "c = float(input(\"enter temperature in Celsius: \"))\n",
    "f_result = convert_cel_to_far(c)\n",
    "print(f\"{c} degrees C = {f_result:.2f} degrees F\")"
   ]
  },
  {
   "cell_type": "code",
   "execution_count": 18,
   "id": "3618753a-1794-4909-9af7-a748c4751c2a",
   "metadata": {},
   "outputs": [
    {
     "name": "stdin",
     "output_type": "stream",
     "text": [
      "enter temperature in Fahrenheit:  72\n"
     ]
    },
    {
     "name": "stdout",
     "output_type": "stream",
     "text": [
      "72.0 degrees F = 22.22 degrees C\n"
     ]
    }
   ],
   "source": [
    "def convert_far_to_cel(fahrenheit):\n",
    "    return (fahrenheit - 32) * 5/9\n",
    "\n",
    "f = float(input(\"enter temperature in Fahrenheit: \"))\n",
    "c_result = convert_far_to_cel(f)\n",
    "print(f\"{f} degrees F = {c_result:.2f} degrees C\")"
   ]
  },
  {
   "cell_type": "markdown",
   "id": "de02bdca-249b-470c-be8e-51686d4ed799",
   "metadata": {},
   "source": [
    "# Review Question #2"
   ]
  },
  {
   "cell_type": "code",
   "execution_count": 19,
   "id": "8cce777f-7cbe-493b-8fc5-425281d9fb62",
   "metadata": {},
   "outputs": [
    {
     "name": "stdout",
     "output_type": "stream",
     "text": [
      "2\n",
      "3\n",
      "4\n",
      "5\n",
      "6\n",
      "7\n",
      "8\n",
      "9\n",
      "10\n"
     ]
    }
   ],
   "source": [
    "for i in range(2, 11):\n",
    "    print(i)"
   ]
  },
  {
   "cell_type": "code",
   "execution_count": 20,
   "id": "205c9de8-1ae1-4421-b972-0fa6327a8497",
   "metadata": {},
   "outputs": [
    {
     "name": "stdout",
     "output_type": "stream",
     "text": [
      "2\n",
      "3\n",
      "4\n",
      "5\n",
      "6\n",
      "7\n",
      "8\n",
      "9\n",
      "10\n"
     ]
    }
   ],
   "source": [
    "i = 2\n",
    "while i <= 10:\n",
    "    print(i)\n",
    "    i += 1"
   ]
  },
  {
   "cell_type": "code",
   "execution_count": 32,
   "id": "ff06badc-b25e-474d-896d-06e711ad0999",
   "metadata": {},
   "outputs": [
    {
     "name": "stdout",
     "output_type": "stream",
     "text": [
      "4\n",
      "8\n",
      "16\n"
     ]
    }
   ],
   "source": [
    "def doubles(num):\n",
    "    return num * 2\n",
    "\n",
    "number = 2\n",
    "\n",
    "for i in range(3):\n",
    "        number = doubles(number)\n",
    "        print(number)"
   ]
  },
  {
   "cell_type": "code",
   "execution_count": null,
   "id": "20e0b685-2062-4005-b305-4c57eefca6cf",
   "metadata": {},
   "outputs": [],
   "source": []
  }
 ],
 "metadata": {
  "kernelspec": {
   "display_name": "Python 3 (ipykernel)",
   "language": "python",
   "name": "python3"
  },
  "language_info": {
   "codemirror_mode": {
    "name": "ipython",
    "version": 3
   },
   "file_extension": ".py",
   "mimetype": "text/x-python",
   "name": "python",
   "nbconvert_exporter": "python",
   "pygments_lexer": "ipython3",
   "version": "3.13.5"
  }
 },
 "nbformat": 4,
 "nbformat_minor": 5
}
