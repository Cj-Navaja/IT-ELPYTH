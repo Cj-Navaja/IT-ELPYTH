{
 "cells": [
  {
   "cell_type": "markdown",
   "id": "cdd44de4-61b7-4127-afa5-17e06e09565b",
   "metadata": {},
   "source": [
    "# Review Question #1"
   ]
  },
  {
   "cell_type": "code",
   "execution_count": 4,
   "id": "03ba9380-4937-452e-b2fe-842e5dfcf92a",
   "metadata": {},
   "outputs": [
    {
     "name": "stdout",
     "output_type": "stream",
     "text": [
      "25000000\n",
      "25000000\n"
     ]
    }
   ],
   "source": [
    "num1 = 25000000\n",
    "num2 = 25_000_000\n",
    "\n",
    "print(num1)\n",
    "print(num2)"
   ]
  },
  {
   "cell_type": "code",
   "execution_count": 1,
   "id": "49c07b36-b4df-409d-8324-bd1756afac75",
   "metadata": {},
   "outputs": [
    {
     "name": "stdout",
     "output_type": "stream",
     "text": [
      "175000.0\n"
     ]
    }
   ],
   "source": [
    "num = 1.75e5  \n",
    "print(num)"
   ]
  },
  {
   "cell_type": "code",
   "execution_count": 4,
   "id": "7564b09e-dcc3-4ab3-bf88-56c71d82f063",
   "metadata": {},
   "outputs": [
    {
     "name": "stdout",
     "output_type": "stream",
     "text": [
      "Smallest N is: 309 -> inf\n"
     ]
    }
   ],
   "source": [
    "print(\"Smallest N is:\", 309, \"->\", 2e309)"
   ]
  },
  {
   "cell_type": "markdown",
   "id": "c7716d03-cf12-4395-90c7-8c5877ad694a",
   "metadata": {},
   "source": [
    "# Review Question #2"
   ]
  },
  {
   "cell_type": "code",
   "execution_count": 6,
   "id": "7108a6c7-049e-4307-95bc-f86f125b0278",
   "metadata": {},
   "outputs": [
    {
     "name": "stdin",
     "output_type": "stream",
     "text": [
      "Enter a base:  1.2\n",
      "Enter an exponent:  3\n"
     ]
    },
    {
     "name": "stdout",
     "output_type": "stream",
     "text": [
      "1.2 to the power of 3 = 1.7279999999999998\n"
     ]
    }
   ],
   "source": [
    "base = float(input(\"Enter a base: \"))\n",
    "exponent = int(input(\"Enter an exponent: \"))\n",
    "\n",
    "result = base ** exponent\n",
    "\n",
    "print(f\"{base} to the power of {exponent} = {result}\")\n"
   ]
  },
  {
   "cell_type": "markdown",
   "id": "134277a5-5ad4-4f3c-a753-76cc5019ac8c",
   "metadata": {},
   "source": [
    "# Review Question #3"
   ]
  },
  {
   "cell_type": "code",
   "execution_count": 8,
   "id": "1d5ea851-5ed4-4261-b3c9-a94d808eb69f",
   "metadata": {},
   "outputs": [
    {
     "name": "stdin",
     "output_type": "stream",
     "text": [
      "Enter a number:  5.432\n"
     ]
    },
    {
     "name": "stdout",
     "output_type": "stream",
     "text": [
      "5.432 rounded to 2 decimal places is 5.43\n"
     ]
    }
   ],
   "source": [
    "num = float(input(\"Enter a number: \"))\n",
    "\n",
    "rounded = round(num, 2)\n",
    "\n",
    "print(f\"{num} rounded to 2 decimal places is {rounded}\")"
   ]
  },
  {
   "cell_type": "code",
   "execution_count": 23,
   "id": "8b78048b-691b-4503-aaa4-6d7cf8151997",
   "metadata": {
    "scrolled": true
   },
   "outputs": [
    {
     "name": "stdin",
     "output_type": "stream",
     "text": [
      "Enter a number:  -10\n"
     ]
    },
    {
     "name": "stdout",
     "output_type": "stream",
     "text": [
      "The absolute value of -10.0 is 10.0\n"
     ]
    }
   ],
   "source": [
    "num = float(input(\"Enter a number: \"))\n",
    "\n",
    "absolute = abs(num)\n",
    "\n",
    "print(f\"The absolute value of {num} is {absolute}\")"
   ]
  },
  {
   "cell_type": "markdown",
   "id": "4f28377e-bc1e-44f1-b6d1-2fc7d0be6490",
   "metadata": {},
   "source": [
    "# Review Question #4"
   ]
  },
  {
   "cell_type": "code",
   "execution_count": null,
   "id": "beb31dfd-2e3f-4f40-a4cb-015038498e0e",
   "metadata": {},
   "outputs": [],
   "source": [
    "first_number = float(input(\"Enter a number: \"))\n",
    "second_number = float(input(\"Enter another number: \"))\n",
    "\n",
    "difference = first_number - second_number\n",
    "is_integer = difference.is_integer()\n",
    "\n",
    "print(f\"The difference between {first_number} and {second_number} is an integer? {is_integer}!\")\n"
   ]
  },
  {
   "cell_type": "markdown",
   "id": "7e264bc3-304e-42f0-b424-fe7375d99c87",
   "metadata": {},
   "source": [
    "# Review Question #5"
   ]
  },
  {
   "cell_type": "code",
   "execution_count": 19,
   "id": "245718c7-c12e-4d12-a4c8-4d0130940b0a",
   "metadata": {},
   "outputs": [
    {
     "name": "stdout",
     "output_type": "stream",
     "text": [
      "1.147\n"
     ]
    }
   ],
   "source": [
    "result = 3 ** 0.125\n",
    "print(f\"{result:.3f}\")"
   ]
  },
  {
   "cell_type": "code",
   "execution_count": 20,
   "id": "3e0f886e-3f6e-46bb-8397-48210c1a126b",
   "metadata": {},
   "outputs": [
    {
     "name": "stdout",
     "output_type": "stream",
     "text": [
      "$150,000.00\n"
     ]
    }
   ],
   "source": [
    "amount = 150000\n",
    "print(f\"${amount:,.2f}\")"
   ]
  },
  {
   "cell_type": "code",
   "execution_count": 21,
   "id": "57fb722a-a306-4901-9406-99fcc422043a",
   "metadata": {},
   "outputs": [
    {
     "name": "stdout",
     "output_type": "stream",
     "text": [
      "20%\n"
     ]
    }
   ],
   "source": [
    "result = 2 / 10\n",
    "print(f\"{result:.0%}\")"
   ]
  }
 ],
 "metadata": {
  "kernelspec": {
   "display_name": "Python 3 (ipykernel)",
   "language": "python",
   "name": "python3"
  },
  "language_info": {
   "codemirror_mode": {
    "name": "ipython",
    "version": 3
   },
   "file_extension": ".py",
   "mimetype": "text/x-python",
   "name": "python",
   "nbconvert_exporter": "python",
   "pygments_lexer": "ipython3",
   "version": "3.13.5"
  }
 },
 "nbformat": 4,
 "nbformat_minor": 5
}
