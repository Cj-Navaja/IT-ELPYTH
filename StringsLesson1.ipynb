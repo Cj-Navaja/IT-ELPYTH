{
 "cells": [
  {
   "cell_type": "markdown",
   "id": "b69c83e3-aba3-43d5-af07-b48a02cba88a",
   "metadata": {},
   "source": [
    "# Review Question #1 "
   ]
  },
  {
   "cell_type": "code",
   "execution_count": 4,
   "id": "9504b599-beb5-4c28-9fb7-009b61f02ee9",
   "metadata": {},
   "outputs": [
    {
     "name": "stdout",
     "output_type": "stream",
     "text": [
      "the length of the string is: 12\n"
     ]
    }
   ],
   "source": [
    "string = \"Hello World!\"\n",
    "length  = len(string)\n",
    "print(\"the length of the string is:\", length)"
   ]
  },
  {
   "cell_type": "code",
   "execution_count": 20,
   "id": "f42341a2-517e-4237-8824-126931dec6e7",
   "metadata": {},
   "outputs": [
    {
     "name": "stdout",
     "output_type": "stream",
     "text": [
      "The concatenated string is: CJNavaja\n"
     ]
    }
   ],
   "source": [
    "FirstName = \"CJ\"\n",
    "LastName = \"Navaja\"\n",
    "FullName = FirstName + LastName\n",
    "print(\"The concatenated string is:\", FullName)"
   ]
  },
  {
   "cell_type": "code",
   "execution_count": 21,
   "id": "57657631-3474-4a66-ad0d-0f79c9b778c4",
   "metadata": {},
   "outputs": [
    {
     "name": "stdout",
     "output_type": "stream",
     "text": [
      "The concatenated add space string: Hello World\n"
     ]
    }
   ],
   "source": [
    "String1 = \"Hello\"\n",
    "String2 = \"World\"\n",
    "String3 = String1 + \" \" + String2\n",
    "print(\"The concatenated add space string:\", String3)"
   ]
  },
  {
   "cell_type": "code",
   "execution_count": 17,
   "id": "b2292387-271d-4dff-a31d-0a22e06d407b",
   "metadata": {},
   "outputs": [
    {
     "name": "stdout",
     "output_type": "stream",
     "text": [
      "fox\n"
     ]
    }
   ],
   "source": [
    "text = \"the quick brown fox jumped over the lazy dog. #1234567890!\"\n",
    "String = text[16:19]\n",
    "print(String)"
   ]
  },
  {
   "cell_type": "markdown",
   "id": "6150b39f-c78e-4458-b392-4a919b7ccefe",
   "metadata": {},
   "source": [
    "# Review Question #2"
   ]
  },
  {
   "cell_type": "code",
   "execution_count": 19,
   "id": "301f99a3-0937-4eea-be60-1ab8d2e81644",
   "metadata": {},
   "outputs": [
    {
     "name": "stdout",
     "output_type": "stream",
     "text": [
      "animal\n",
      "badger\n",
      "honey bee\n",
      "honeybadger\n"
     ]
    }
   ],
   "source": [
    "string1 = \"Animal\"\n",
    "string2 = \"Badger\"\n",
    "string3 = \"Honey bee\"\n",
    "string4 = \"Honeybadger\"\n",
    "\n",
    "print(string1.lower())\n",
    "print(string2.lower())\n",
    "print(string3.lower())\n",
    "print(string4.lower())"
   ]
  },
  {
   "cell_type": "code",
   "execution_count": 24,
   "id": "a347859c-fe5d-4b26-8bdf-85269332550a",
   "metadata": {},
   "outputs": [
    {
     "name": "stdout",
     "output_type": "stream",
     "text": [
      "ANIMAL\n",
      "BADGER\n",
      "HONEY BEE\n",
      "HONEYBADGER\n"
     ]
    }
   ],
   "source": [
    "string1 = \"animal\"\n",
    "string2 = \"badger\"\n",
    "string3 = \"honey bee\"\n",
    "string4 = \"honeybadger\"\n",
    "\n",
    "print(string1.upper())\n",
    "print(string2.upper())\n",
    "print(string3.upper())\n",
    "print(string4.upper())"
   ]
  },
  {
   "cell_type": "code",
   "execution_count": 25,
   "id": "caa7c9e8-01df-4c75-ac27-968e5a2c654a",
   "metadata": {
    "scrolled": true
   },
   "outputs": [
    {
     "name": "stdout",
     "output_type": "stream",
     "text": [
      "Filet Mignon\n",
      "Brisket\n"
     ]
    }
   ],
   "source": [
    "string1 = \"   Filet Mignon\"\n",
    "string2 = \"Brisket   \"\n",
    "\n",
    "string1 = string1.strip()\n",
    "string2 = string2.strip()\n",
    "\n",
    "print(string1)\n",
    "print(string2)"
   ]
  },
  {
   "cell_type": "code",
   "execution_count": 31,
   "id": "4f049df3-f912-42c4-94b8-887fb95ba08d",
   "metadata": {},
   "outputs": [
    {
     "name": "stdout",
     "output_type": "stream",
     "text": [
      "False\n",
      "True\n"
     ]
    }
   ],
   "source": [
    "string1 = \"Becomes\"\n",
    "string2 = \"becomes\"\n",
    "\n",
    "print(string1.startswith(\"be\"))\n",
    "print(string2.startswith(\"be\"))"
   ]
  },
  {
   "cell_type": "code",
   "execution_count": 32,
   "id": "fdd249e3-6d2c-4797-9d5a-333ba24fe2c1",
   "metadata": {},
   "outputs": [
    {
     "name": "stdout",
     "output_type": "stream",
     "text": [
      "True\n",
      "True\n"
     ]
    }
   ],
   "source": [
    "string1 = \"Becomes\"\n",
    "string2 = \"becomes\"\n",
    "\n",
    "string1 = string1.lower()\n",
    "string2 = string2.lower()\n",
    "\n",
    "print(string1.startswith(\"be\"))\n",
    "print(string2.startswith(\"be\"))"
   ]
  },
  {
   "cell_type": "markdown",
   "id": "8ee2e21d-acda-42ec-8331-000d5578a6bf",
   "metadata": {},
   "source": [
    "# Review Question #3"
   ]
  },
  {
   "cell_type": "code",
   "execution_count": 33,
   "id": "64cfbee1-78ff-43d7-bb6e-302e14693140",
   "metadata": {},
   "outputs": [
    {
     "name": "stdin",
     "output_type": "stream",
     "text": [
      "Enter something bayaw\n"
     ]
    },
    {
     "name": "stdout",
     "output_type": "stream",
     "text": [
      "You entered: bayaw\n"
     ]
    }
   ],
   "source": [
    "user = input(\"Enter something\")\n",
    "print(\"You entered:\", user)"
   ]
  },
  {
   "cell_type": "code",
   "execution_count": 42,
   "id": "1f968ff4-f7a9-43c7-bf20-3bad801b1cf4",
   "metadata": {
    "scrolled": true
   },
   "outputs": [
    {
     "name": "stdin",
     "output_type": "stream",
     "text": [
      "Enter Something BAYAW\n"
     ]
    },
    {
     "name": "stdout",
     "output_type": "stream",
     "text": [
      "You entered: bayaw\n"
     ]
    }
   ],
   "source": [
    "user1 = input(\"Enter Something\")\n",
    "user1 = user1.lower()\n",
    "print(\"You entered:\", user1)"
   ]
  },
  {
   "cell_type": "code",
   "execution_count": 49,
   "id": "a6dc907e-b40a-4c62-9759-2de74b463d9b",
   "metadata": {},
   "outputs": [
    {
     "name": "stdin",
     "output_type": "stream",
     "text": [
      "Enter Something sadas\n"
     ]
    },
    {
     "name": "stdout",
     "output_type": "stream",
     "text": [
      "You Entered: 5\n"
     ]
    }
   ],
   "source": [
    "user = input(\"Enter Something\")\n",
    "length = len(user)\n",
    "print(\"You Entered:\", length)"
   ]
  },
  {
   "cell_type": "markdown",
   "id": "420ce977-9e89-4a7d-afc4-79334f9202c0",
   "metadata": {},
   "source": [
    "# Review Question #4"
   ]
  },
  {
   "cell_type": "code",
   "execution_count": null,
   "id": "f2bea859-e56e-40e9-9534-cee038810702",
   "metadata": {},
   "outputs": [],
   "source": []
  }
 ],
 "metadata": {
  "kernelspec": {
   "display_name": "Python 3 (ipykernel)",
   "language": "python",
   "name": "python3"
  },
  "language_info": {
   "codemirror_mode": {
    "name": "ipython",
    "version": 3
   },
   "file_extension": ".py",
   "mimetype": "text/x-python",
   "name": "python",
   "nbconvert_exporter": "python",
   "pygments_lexer": "ipython3",
   "version": "3.13.5"
  }
 },
 "nbformat": 4,
 "nbformat_minor": 5
}
