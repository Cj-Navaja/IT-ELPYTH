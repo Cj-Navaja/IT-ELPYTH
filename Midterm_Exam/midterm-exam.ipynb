{
 "cells": [
  {
   "cell_type": "markdown",
   "id": "f6182841-56d3-43fc-86ee-1c1f570ebec3",
   "metadata": {},
   "source": [
    "# Question #1"
   ]
  },
  {
   "cell_type": "raw",
   "id": "4430c606-ac64-4390-846c-b221cf9e2fe6",
   "metadata": {},
   "source": [
    "String Normalizer & Finder. Write a function normalize_and_find(text:\n",
    "str, needle: str) -> int that: (1) trims whitespace on both ends, (2) converts to lowercase, then (3) returns the \n",
    "index of the first occurrence of needle using a safe search (return −1 if not found). \n",
    "Discuss alternatives (find vs. index), and\n",
    "how your choice affects error handling. Anchor concepts: stripping, case conversion,\n",
    "find/replace, string immutability. Reference: :contentReference[oaicite:6]index=6"
   ]
  },
  {
   "cell_type": "markdown",
   "id": "38242f61-f26c-4233-a599-414d4ecd1d0b",
   "metadata": {},
   "source": [
    "## Prompt(chatGPT)"
   ]
  },
  {
   "cell_type": "raw",
   "id": "f13b968a-fa93-4991-9eb2-f77e9ec15610",
   "metadata": {},
   "source": [
    "Write a Python function normalize_and_find(text, needle) that removes leading and trailing spaces from text, \n",
    "converts both strings to lowercase, and returns the index of needle in text using .find(). \n",
    "Return -1 if it is not found. Add a few quick tests."
   ]
  },
  {
   "cell_type": "markdown",
   "id": "72e174ef-54db-493d-a9f2-a31f1ae02f77",
   "metadata": {},
   "source": [
    "## chatGPT Code:"
   ]
  },
  {
   "cell_type": "code",
   "execution_count": 3,
   "id": "e320d570-35f1-4d5f-a1b2-bb6184094f3b",
   "metadata": {
    "scrolled": true
   },
   "outputs": [
    {
     "name": "stdout",
     "output_type": "stream",
     "text": [
      "6\n",
      "-1\n"
     ]
    }
   ],
   "source": [
    "def normalize_and_find(text, needle):\n",
    "    text = text.strip().lower()\n",
    "    needle = needle.lower()\n",
    "    return text.find(needle)\n",
    "\n",
    "print(normalize_and_find(\"   Hello World   \", \"world\"))\n",
    "print(normalize_and_find(\"Python Programming\", \"java\"))"
   ]
  },
  {
   "cell_type": "markdown",
   "id": "2ca66501-b571-46c9-b537-9616878f3e34",
   "metadata": {},
   "source": [
    "## Critique"
   ]
  },
  {
   "cell_type": "raw",
   "id": "9c1a1b72-1b8d-41bc-816b-d2a3acb95d25",
   "metadata": {},
   "source": [
    "(i) Correctness:\n",
    "The function meets all requirements—whitespace trimming, lowercase conversion, and safe searching using .find().\n",
    ".find() is safer than .index() because it returns -1 instead of raising a ValueError if the substring isn’t found.\n",
    "This ensures the function doesn’t break on invalid searches.\n",
    "\n",
    "(ii) Time & Space Complexity:\n",
    "Each method call (.strip(), .lower(), .find()) scans the string once → overall O(n) time.\n",
    "Since Python strings are immutable, each transformation creates a new copy, so space complexity is O(n) as well.\n",
    "\n",
    "(iii) Robustness:\n",
    "Handles normal and empty string inputs correctly.\n",
    "However, doesn’t verify non-string inputs. Adding basic type checks or an input interaction would make it more complete and user-friendly.\n",
    "\n",
    "(iv) Readability / Style:\n",
    "Readable and short, though lacks hints and docstrings.\n",
    "Variable names and spacing can be slightly refined for clarity and consistency with PEP 8.\n",
    "\n",
    "(v) Faithfulness to Lecture:\n",
    "Fully aligned with the string lessons — uses .strip(), .lower(), .find(), and clearly demonstrates immutability (each step produces a new string).\n",
    "Adding a user input section also reflects exercises from your Input Interaction lecture slides, which taught using input() for user-driven string \n",
    "processing."
   ]
  },
  {
   "cell_type": "markdown",
   "id": "c8939879-73c7-485d-9028-90d8732dea95",
   "metadata": {},
   "source": [
    "## Improved Code"
   ]
  },
  {
   "cell_type": "code",
   "execution_count": 1,
   "id": "5e3a397b-a8c1-43a7-aa7d-a57803478252",
   "metadata": {},
   "outputs": [
    {
     "name": "stdout",
     "output_type": "stream",
     "text": [
      "=== String Normalizer & Finder ===\n"
     ]
    },
    {
     "name": "stdin",
     "output_type": "stream",
     "text": [
      "Enter a text:  cj navaja\n",
      "Enter the word or phrase to find:  n\n"
     ]
    },
    {
     "name": "stdout",
     "output_type": "stream",
     "text": [
      "'n' found at index 3.\n"
     ]
    }
   ],
   "source": [
    "def normalize_and_find(text: str, needle: str) -> int:\n",
    "    \"\"\"\n",
    "    Trim whitespace, convert to lowercase, and find the first index of 'needle' in 'text'.\n",
    "    Returns -1 if not found.\n",
    "    \"\"\"\n",
    "    # Defensive check\n",
    "    if not isinstance(text, str) or not isinstance(needle, str):\n",
    "        raise TypeError(\"Both arguments must be strings.\")\n",
    "\n",
    "    normalized_text = text.strip().lower()\n",
    "    normalized_needle = needle.lower()\n",
    "\n",
    "    return normalized_text.find(normalized_needle)\n",
    "\n",
    "\n",
    "# --- User Interaction Section ---\n",
    "print(\"=== String Normalizer & Finder ===\")\n",
    "text_input = input(\"Enter a text: \")\n",
    "needle_input = input(\"Enter the word or phrase to find: \")\n",
    "\n",
    "position = normalize_and_find(text_input, needle_input)\n",
    "\n",
    "if position != -1:\n",
    "    print(f\"'{needle_input}' found at index {position}.\")\n",
    "else:\n",
    "    print(f\"'{needle_input}' was not found in the given text.\")\n"
   ]
  },
  {
   "cell_type": "markdown",
   "id": "b7481dca-1ba2-4418-8c76-7ff9eb4b5e86",
   "metadata": {},
   "source": [
    "## Lecture Concept Reference"
   ]
  },
  {
   "cell_type": "raw",
   "id": "e10e2da7-8090-42b0-91c6-51c2c71f61c0",
   "metadata": {},
   "source": [
    "#String methods: .strip(), .lower(), .find()\n",
    "\n",
    "#String immutability (each operation returns new string)\n",
    "\n",
    "#Input interaction (input()) from Python Programming Lecture: Interact with User Input\n",
    "\n",
    "#Safe searching and exception handling differences between .find() and .index()"
   ]
  },
  {
   "cell_type": "markdown",
   "id": "70decce7-74c1-45b7-b96b-18f586e7bece",
   "metadata": {},
   "source": [
    "# Question #2"
   ]
  },
  {
   "cell_type": "raw",
   "id": "945f0d34-da81-40d0-be35-3fe69165348c",
   "metadata": {},
   "source": [
    "Q2. Leetspeak Translator (Parametric). Generalize our leetspeak idea: write translate(text:\n",
    "str, mapping: dict[str,str]) -> str that applies a mapping (e.g., {’a’:’4’,’e’:’3’,...})\n",
    "over lowercase letters only, leaving others unchanged. Explain why strings are immutable and show an efficient approach \n",
    "(e.g., list join vs. repeated concatenation).\n",
    "Anchor concepts: replace, iteration strategies, efficiency. Reference: :contentReference[oaicite:7]index=7"
   ]
  },
  {
   "cell_type": "markdown",
   "id": "704d454d-bcf6-4a01-ad0c-0c412031261a",
   "metadata": {},
   "source": [
    "## Prompt(chatGPT):"
   ]
  },
  {
   "cell_type": "raw",
   "id": "bd8b2750-40b4-40ef-8d07-5b25c81c1b3f",
   "metadata": {},
   "source": [
    "Write a Python function translate(text, mapping) that converts lowercase letters based on a mapping dictionary like { 'a':'4', 'e':'3', 'o':'0' }, leaving others unchanged.\n",
    "Use an efficient method like list join instead of repeated concatenation. Add user input for demonstration"
   ]
  },
  {
   "cell_type": "markdown",
   "id": "88ca2772-0d3c-408b-a5d5-67e168d54f30",
   "metadata": {},
   "source": [
    "## chatGPT Code:"
   ]
  },
  {
   "cell_type": "code",
   "execution_count": 4,
   "id": "9521a053-13ea-425e-ab94-fac185b1c04f",
   "metadata": {},
   "outputs": [
    {
     "name": "stdout",
     "output_type": "stream",
     "text": [
      "h3110 w0r1d\n",
      "AEIOU\n"
     ]
    }
   ],
   "source": [
    "def translate(text, mapping):\n",
    "    result = \"\"\n",
    "    for ch in text:\n",
    "        if ch in mapping:\n",
    "            result += mapping[ch]\n",
    "        else:\n",
    "            result += ch\n",
    "    return result\n",
    "\n",
    "mapping = {'a':'4','e':'3','o':'0','l':'1'}\n",
    "print(translate(\"hello world\", mapping))\n",
    "print(translate(\"AEIOU\", mapping))"
   ]
  },
  {
   "cell_type": "markdown",
   "id": "8b56fb0d-9c2a-48be-81f1-72d3c26a6b74",
   "metadata": {},
   "source": [
    "## Critique"
   ]
  },
  {
   "cell_type": "raw",
   "id": "5d788be9-3652-47fb-af36-2396b6d8d619",
   "metadata": {},
   "source": [
    "(i) Correctness:\n",
    "The code correctly loops through each character and replaces it if it’s in the mapping dictionary.\n",
    "Characters not found in the mapping remain unchanged.\n",
    "This meets the task’s requirements but can be improved in efficiency and structure.\n",
    "\n",
    "(ii) Time & Space Complexity:\n",
    "Currently, each loop performs result += mapping[ch], which recreates a new string every time — leading to O(n²) time complexity because strings are immutable.\n",
    "A better approach is to collect characters in a list and \"\".join() them at the end, achieving O(n) time and O(n) space, which is the optimal solution.\n",
    "\n",
    "(iii) Robustness:\n",
    "Works for any string input, including empty strings.\n",
    "However, it doesn’t validate input types. Using a mapping dictionary is assumed, but adding a simple check would make it safer for user-driven input.\n",
    "\n",
    "(iv) Readability / Style:\n",
    "The original code is readable but lacks documentation and Pythonic structure.\n",
    "Adding type hints, a docstring, and a more descriptive variable name would improve clarity.\n",
    "Using list comprehension simplifies the logic and shows stronger command of Python.\n",
    "\n",
    "(v) Faithfulness to Lecture:\n",
    "This perfectly aligns with the “Leetspeak Exercise” in your Python Programming lecture (page 37).\n",
    "It demonstrates:\n",
    "\n",
    "String immutability awareness,\n",
    "\n",
    "Iteration through each character,\n",
    "\n",
    "The concept of dictionary-based mapping, and\n",
    "\n",
    "The efficient use of \"\".join() for string construction."
   ]
  },
  {
   "cell_type": "markdown",
   "id": "97492dca-e2d2-4e77-95bd-6bcfe609acaf",
   "metadata": {},
   "source": [
    "## Improved Code"
   ]
  },
  {
   "cell_type": "code",
   "execution_count": 5,
   "id": "c1608997-5527-47f5-a20f-5fd8227b80a0",
   "metadata": {},
   "outputs": [
    {
     "name": "stdout",
     "output_type": "stream",
     "text": [
      "=== Leetspeak Translator ===\n"
     ]
    },
    {
     "name": "stdin",
     "output_type": "stream",
     "text": [
      "Enter text to translate:  cj navaja\n"
     ]
    },
    {
     "name": "stdout",
     "output_type": "stream",
     "text": [
      "Leetspeak translation: cj n4v4j4\n"
     ]
    }
   ],
   "source": [
    "def translate(text: str, mapping: dict[str, str]) -> str:\n",
    "    \"\"\"\n",
    "    Convert lowercase letters based on mapping dictionary (Leetspeak style).\n",
    "    Unmapped or uppercase letters remain unchanged.\n",
    "    \"\"\"\n",
    "    # Use list comprehension + join for O(n) efficiency\n",
    "    return \"\".join(mapping.get(ch, ch) for ch in text)\n",
    "\n",
    "\n",
    "# --- User Interaction Section ---\n",
    "print(\"=== Leetspeak Translator ===\")\n",
    "user_text = input(\"Enter text to translate: \")\n",
    "\n",
    "# predefined mapping based on lecture exercise\n",
    "leet_map = {\n",
    "    'a': '4',\n",
    "    'b': '8',\n",
    "    'e': '3',\n",
    "    'l': '1',\n",
    "    'o': '0',\n",
    "    's': '5',\n",
    "    't': '7'\n",
    "}\n",
    "\n",
    "translated = translate(user_text.lower(), leet_map)\n",
    "print(\"Leetspeak translation:\", translated)\n"
   ]
  },
  {
   "cell_type": "markdown",
   "id": "cc25529a-14cb-49b0-a0d4-296eb968d30c",
   "metadata": {},
   "source": [
    "## Lecture Concept Reference"
   ]
  },
  {
   "cell_type": "raw",
   "id": "79d86bc8-08a6-4f0f-b761-48eae6dcf657",
   "metadata": {},
   "source": [
    "#String replacement: .replace() and mapping-based iteration (Python Programming, p. 35–37)\n",
    "\n",
    "#Efficiency: \"\".join()\" used instead of concatenation to avoid O(n²) runtime\n",
    "\n",
    "#String immutability: every string operation returns a new string\n",
    "\n",
    "#User Input & Output: interactive design with input() from your lecture’s “Interact with User Input” section"
   ]
  },
  {
   "cell_type": "markdown",
   "id": "dfad49f7-f519-4277-9808-c8b9d626c3dc",
   "metadata": {},
   "source": [
    "# Question #3"
   ]
  },
  {
   "cell_type": "raw",
   "id": "c0f12c93-8ee6-4bf4-81ec-2dd8c8838a40",
   "metadata": {},
   "source": [
    "Q3. Currency Formatter & Rounding Ties-to-Even. Write fmt_money(x: float) -> str that returns a string like 1,234.50 using proper rounding \n",
    "(banker’s rounding / ties-to-even). Include test cases that demonstrate ties (e.g., 2.5, 3.5). Explain floating-point representation error and how \n",
    "formatting mitigates it for display. Anchor concepts: numbers, round, representation error, formatted printing.\n",
    "Reference: :contentReference[oaicite:8]index=8"
   ]
  },
  {
   "cell_type": "markdown",
   "id": "6ecce61d-d80c-4d88-9cfe-89ff7c415a1e",
   "metadata": {},
   "source": [
    "## Prompt(chatGPT):"
   ]
  },
  {
   "cell_type": "raw",
   "id": "66457924-a140-4dc9-a6b3-ce15d5638a63",
   "metadata": {},
   "source": [
    "Write a Python function fmt_money(x) that returns a string like 1,234.50, using banker’s rounding (ties-to-even).\n",
    "Show examples for 2.5 and 3.5. Explain floating-point error and how formatting helps."
   ]
  },
  {
   "cell_type": "markdown",
   "id": "d798403b-2081-4aba-90a1-3d70a0d6cc63",
   "metadata": {},
   "source": [
    "## chatGPT Code:"
   ]
  },
  {
   "cell_type": "code",
   "execution_count": 14,
   "id": "55e1b3b1-a2cc-4b5d-b1ae-b62c6f3c4931",
   "metadata": {},
   "outputs": [
    {
     "name": "stdout",
     "output_type": "stream",
     "text": [
      "1,234.50\n",
      "2.50\n",
      "3.50\n"
     ]
    }
   ],
   "source": [
    "def fmt_money(x):\n",
    "    return f\"{round(x, 2):,.2f}\"\n",
    "\n",
    "print(fmt_money(1234.5))\n",
    "print(fmt_money(2.5))\n",
    "print(fmt_money(3.5))"
   ]
  },
  {
   "cell_type": "markdown",
   "id": "900d1e91-aa9b-4e28-bbbc-15a194d4a4a1",
   "metadata": {},
   "source": [
    "## Critique"
   ]
  },
  {
   "cell_type": "raw",
   "id": "466d835a-5928-4f5b-8f2b-ac9944fd8ce5",
   "metadata": {},
   "source": [
    "(i) Correctness:\n",
    "The function correctly applies banker’s rounding, which rounds .5 values to the nearest even number.\n",
    "For example, 2.5 → 2 and 3.5 → 4, consistent with Python’s round() behavior.\n",
    "The format specifier :,.2f ensures commas are inserted correctly and exactly two decimal places are displayed.\n",
    "\n",
    "(ii) Time & Space Complexity:\n",
    "The operation involves no loops — it performs constant-time arithmetic and formatting.\n",
    "Therefore, both time and space complexity are O(1).\n",
    "\n",
    "(iii) Robustness:\n",
    "The function handles all numeric inputs (int or float).\n",
    "If non-numeric input is passed, Python will naturally raise a TypeError, which is acceptable for this level.\n",
    "It also handles large and negative values cleanly, ensuring a consistent formatted output.\n",
    "\n",
    "(iv) Readability / Style:\n",
    "The function is concise, readable, and compliant with PEP 8.\n",
    "Adding a short docstring and type hint improves clarity and makes the code self-documenting.\n",
    "Variable naming is unnecessary here since the logic is contained in a single line.\n",
    "\n",
    "(v) Faithfulness to Lecture Concepts:\n",
    "The solution perfectly reflects your Python Programming lectures on:\n",
    "\n",
    "Numeric data types and conversions (float() and int()),\n",
    "\n",
    "Rounding (ties-to-even behavior),\n",
    "\n",
    "Floating-point precision error (e.g., 0.1 + 0.2 = 0.30000000000000004), and\n",
    "\n",
    "Formatted string output with precision specifiers (:,.2f).\n",
    "It demonstrates both conceptual and practical mastery of numeric formatting in Python."
   ]
  },
  {
   "cell_type": "markdown",
   "id": "b357788f-febe-4001-9713-80551f56732d",
   "metadata": {},
   "source": [
    "## Improved Code"
   ]
  },
  {
   "cell_type": "code",
   "execution_count": 15,
   "id": "55d7dc30-709c-44c7-9fd5-e2a83e30d22b",
   "metadata": {},
   "outputs": [
    {
     "name": "stdout",
     "output_type": "stream",
     "text": [
      "1,234.50\n",
      "2.50\n",
      "3.50\n",
      "9,876,543.22\n",
      "-45.68\n"
     ]
    }
   ],
   "source": [
    "def fmt_money(x: float) -> str:\n",
    "    \"\"\"\n",
    "    Format a number as currency with commas and two decimal places.\n",
    "    Uses banker's rounding (ties-to-even) via Python's built-in round().\n",
    "    \"\"\"\n",
    "    if not isinstance(x, (int, float)):\n",
    "        raise TypeError(\"Input must be a numeric value.\")\n",
    "    \n",
    "    return f\"{round(x, 2):,.2f}\"\n",
    "\n",
    "\n",
    "# --- Test Cases ---\n",
    "print(fmt_money(1234.5))     # 1,234.50\n",
    "print(fmt_money(2.5))        # 2.50 (ties-to-even → 2)\n",
    "print(fmt_money(3.5))        # 3.50 (ties-to-even → 4)\n",
    "print(fmt_money(9876543.219))# 9,876,543.22\n",
    "print(fmt_money(-45.678))    # -45.68"
   ]
  },
  {
   "cell_type": "markdown",
   "id": "1f966465-2e41-4823-8aee-9c6e4bea122a",
   "metadata": {},
   "source": [
    "## Lecture Concept Reference"
   ]
  },
  {
   "cell_type": "raw",
   "id": "5d971529-b097-4048-873a-6997563cecbd",
   "metadata": {},
   "source": [
    "#Numeric data types: int, float\n",
    "\n",
    "#Rounding rule: ties-to-even (banker’s rounding)\n",
    "\n",
    "#Floating-point representation error: binary inaccuracy of decimal fractions\n",
    "\n",
    "#Formatted output: :,.2f for currency display"
   ]
  },
  {
   "cell_type": "markdown",
   "id": "1b516bd6-4e21-4e3f-969f-b7f946b59c5a",
   "metadata": {},
   "source": [
    "# Question #4"
   ]
  },
  {
   "cell_type": "raw",
   "id": "0e7bdfb2-2496-4c39-b761-7aa4c4a94472",
   "metadata": {},
   "source": [
    "Q4. Exponent Tool & Input Validation. Create a CLI program exponent.py that\n",
    "reads two values, validates they are numeric, handles errors gracefully (e.g., ValueError),\n",
    "and prints a ** b with clear messages. Compare using try/except vs. pre-validation\n",
    "with str.isdigit() (and why isdigit() is insufficient for negatives/floats). Anchor concepts: arithmetic operators, exceptions, input. \n",
    "Reference: :contentReference[oaicite:9]index=9, :contentReference[oaicite:10]index=10"
   ]
  },
  {
   "cell_type": "markdown",
   "id": "aed990dd-983b-4979-93cc-dec887440835",
   "metadata": {},
   "source": [
    "## Prompt(chatGPT):"
   ]
  },
  {
   "cell_type": "raw",
   "id": "65f62da1-719d-4cee-ba4b-3f0593657cc7",
   "metadata": {},
   "source": [
    "Write a Python CLI program that reads two values from the user, validates that they are numeric, and prints a ** b.\n",
    "Use try/except for error handling, and explain why .isdigit() doesn’t work for negative numbers or floats."
   ]
  },
  {
   "cell_type": "markdown",
   "id": "e55203e6-9af4-4690-9e9e-dac2e2cf08be",
   "metadata": {},
   "source": [
    "## chatGPT Code:"
   ]
  },
  {
   "cell_type": "code",
   "execution_count": 18,
   "id": "487de6b0-5561-4bc2-afff-8705cce5047b",
   "metadata": {},
   "outputs": [
    {
     "name": "stdin",
     "output_type": "stream",
     "text": [
      "Enter base:  18\n",
      "Enter exponent:  2\n"
     ]
    },
    {
     "name": "stdout",
     "output_type": "stream",
     "text": [
      "18.0 ** 2.0 = 324.0\n"
     ]
    }
   ],
   "source": [
    "try:\n",
    "    a = float(input(\"Enter base: \"))\n",
    "    b = float(input(\"Enter exponent: \"))\n",
    "    print(f\"{a} ** {b} = {a ** b}\")\n",
    "except ValueError:\n",
    "    print(\"Invalid input. Please enter numeric values only.\")"
   ]
  },
  {
   "cell_type": "markdown",
   "id": "4a767a6f-9f22-4034-a0de-416f1a910607",
   "metadata": {},
   "source": [
    "## Critique"
   ]
  },
  {
   "cell_type": "raw",
   "id": "70942a50-4540-4487-b92a-082bc7a0def5",
   "metadata": {},
   "source": [
    "(i) Correctness:\n",
    " Performs the intended computation: takes two inputs, converts them to floats, and calculates a ** b.\n",
    " Uses try/except to catch invalid input.\n",
    " Doesn’t explain or demonstrate the .isdigit() limitation directly (but can be discussed).\n",
    "\n",
    "(ii) Time & Space Complexity:\n",
    "\n",
    "Each operation (float(), **) is constant time → O(1).\n",
    "\n",
    "Memory use is minimal → O(1).\n",
    "\n",
    "(iii) Robustness:\n",
    " Gracefully handles bad input via try/except.\n",
    " Works with negative, zero, and decimal values.\n",
    " .isdigit() would fail on these (e.g., \"-3\" or \"2.5\" are not digits).\n",
    "\n",
    "(iv) Readability / Style:\n",
    " Simple, clear, consistent indentation.\n",
    " Adding a docstring, type hints, and better prompts improves clarity.\n",
    " Messages can be more user-friendly.\n",
    "\n",
    "(v) Faithfulness to Lecture Concepts:\n",
    " Matches your lecture on exceptions and input validation (using try/except to catch ValueError).\n",
    " Demonstrates ** exponent operator.\n",
    " Explains why .isdigit() fails — it checks only pure digit characters, not - or .."
   ]
  },
  {
   "cell_type": "markdown",
   "id": "ebd97671-d74a-4595-b9cc-6939dc555c27",
   "metadata": {},
   "source": [
    "## Improved Code"
   ]
  },
  {
   "cell_type": "code",
   "execution_count": 19,
   "id": "2c0f7282-a6c9-448c-9f57-1b75a45e61da",
   "metadata": {},
   "outputs": [
    {
     "name": "stdout",
     "output_type": "stream",
     "text": [
      "=== Exponent Tool ===\n"
     ]
    },
    {
     "name": "stdin",
     "output_type": "stream",
     "text": [
      "Enter the base number:  18\n",
      "Enter the exponent:  2\n"
     ]
    },
    {
     "name": "stdout",
     "output_type": "stream",
     "text": [
      "\n",
      "Result: 18.0 ** 2.0 = 324.0\n"
     ]
    }
   ],
   "source": [
    "def exponent_tool() -> None:\n",
    "    \"\"\"\n",
    "    Read two numeric values (base and exponent) from user input,\n",
    "    compute a ** b, and handle invalid input gracefully.\n",
    "    Demonstrates try/except vs. str.isdigit() for validation.\n",
    "    \"\"\"\n",
    "    try:\n",
    "        base = float(input(\"Enter the base number: \"))\n",
    "        exponent = float(input(\"Enter the exponent: \"))\n",
    "        result = base ** exponent\n",
    "        print(f\"\\nResult: {base} ** {exponent} = {result}\")\n",
    "    except ValueError:\n",
    "        print(\"\\nError: Invalid input. Please enter numeric values only.\")\n",
    "\n",
    "\n",
    "# --- Main Program Execution ---\n",
    "print(\"=== Exponent Tool ===\")\n",
    "exponent_tool()\n",
    "\n",
    "# Example explanation for isdigit() limitation:\n",
    "# \"-3\".isdigit() -> False  (because of the minus sign)\n",
    "# \"2.5\".isdigit() -> False (because of the decimal point)\n"
   ]
  },
  {
   "cell_type": "markdown",
   "id": "2ca965aa-6f0d-412b-87dc-a42f9e8f754d",
   "metadata": {},
   "source": [
    "## Lecture Concept Reference\n"
   ]
  },
  {
   "cell_type": "raw",
   "id": "1b6635bc-34a7-4dd4-9906-07b2cd7165e8",
   "metadata": {},
   "source": [
    "#Arithmetic operator: ** for exponentiation.\n",
    "\n",
    "#Exception handling: try/except for safe conversion.\n",
    "\n",
    "#Input validation: comparison between try/except and .isdigit().\n",
    "\n",
    "#User input interaction: consistent with “Interactive CLI” section of lectures."
   ]
  },
  {
   "cell_type": "markdown",
   "id": "0074d3cc-4066-48a9-b3d9-1d67ed5b3b36",
   "metadata": {},
   "source": [
    "# Question #5"
   ]
  },
  {
   "cell_type": "raw",
   "id": "425eb86b-7b38-40f3-ad48-8b9fda76a511",
   "metadata": {},
   "source": [
    "Q5. Password Policy Checker (If/Elif/Else + Loops). Implement check_password(pw:\n",
    "str) -> dict that validates: length ≥ 10, at least one uppercase, one lowercase,\n",
    "one digit, one symbol in !@#$%^&*, and no spaces. Return a dict of booleans per\n",
    "rule and an overall pass/fail. Include a loop that prompts until a valid password\n",
    "is entered (allow quit with Q/q). Anchor concepts: conditionals, logical operators,\n",
    "loops, break/continue. Reference: :contentReference[oaicite:11]index=11"
   ]
  },
  {
   "cell_type": "markdown",
   "id": "ba5d7ba7-32b7-4692-b631-c0aa7af61d66",
   "metadata": {},
   "source": [
    "## Prompt(chatGPT):"
   ]
  },
  {
   "cell_type": "raw",
   "id": "bd95132f-73ad-4a79-9a26-24c6d5c65b17",
   "metadata": {},
   "source": [
    "Write a function check_password(pw) that validates: length ≥ 10, at least one uppercase, one lowercase, one digit, one symbol in !@#$%^&*, and no spaces.\n",
    "Return a dictionary with True/False per rule and an overall result.\n",
    "Add a loop that keeps asking until the user enters a valid password (quit with Q/q)."
   ]
  },
  {
   "cell_type": "markdown",
   "id": "6933b5c0-a648-42d1-b3ea-9a7740aa8c8b",
   "metadata": {},
   "source": [
    "## chatGPT Code:"
   ]
  },
  {
   "cell_type": "code",
   "execution_count": 20,
   "id": "e581a21c-3e16-41d4-b74c-a3119afe4055",
   "metadata": {},
   "outputs": [
    {
     "name": "stdin",
     "output_type": "stream",
     "text": [
      "Enter password (Q to quit):  Password\n"
     ]
    },
    {
     "name": "stdout",
     "output_type": "stream",
     "text": [
      "{'length': False, 'upper': True, 'lower': True, 'digit': False, 'symbol': False, 'no_space': True, 'overall': False}\n",
      "Invalid password, try again.\n"
     ]
    },
    {
     "name": "stdin",
     "output_type": "stream",
     "text": [
      "Enter password (Q to quit):  Cj1234@\n"
     ]
    },
    {
     "name": "stdout",
     "output_type": "stream",
     "text": [
      "{'length': False, 'upper': True, 'lower': True, 'digit': True, 'symbol': True, 'no_space': True, 'overall': False}\n",
      "Invalid password, try again.\n"
     ]
    },
    {
     "name": "stdin",
     "output_type": "stream",
     "text": [
      "Enter password (Q to quit):  Cjnavaja182003@\n"
     ]
    },
    {
     "name": "stdout",
     "output_type": "stream",
     "text": [
      "{'length': True, 'upper': True, 'lower': True, 'digit': True, 'symbol': True, 'no_space': True, 'overall': True}\n",
      "Password accepted!\n"
     ]
    }
   ],
   "source": [
    "def check_password(pw):\n",
    "    rules = {\n",
    "        \"length\": len(pw) >= 10,\n",
    "        \"upper\": any(c.isupper() for c in pw),\n",
    "        \"lower\": any(c.islower() for c in pw),\n",
    "        \"digit\": any(c.isdigit() for c in pw),\n",
    "        \"symbol\": any(c in \"!@#$%^&*\" for c in pw),\n",
    "        \"no_space\": \" \" not in pw\n",
    "    }\n",
    "    rules[\"overall\"] = all(rules.values())\n",
    "    return rules\n",
    "\n",
    "while True:\n",
    "    pw = input(\"Enter password (Q to quit): \")\n",
    "    if pw.lower() == \"q\":\n",
    "        break\n",
    "    result = check_password(pw)\n",
    "    print(result)\n",
    "    if result[\"overall\"]:\n",
    "        print(\"Password accepted!\")\n",
    "        break\n",
    "    else:\n",
    "        print(\"Invalid password, try again.\")"
   ]
  },
  {
   "cell_type": "markdown",
   "id": "a6af682c-d73c-4148-9f5d-17b5120ce8e7",
   "metadata": {},
   "source": [
    "## Critique"
   ]
  },
  {
   "cell_type": "raw",
   "id": "7872fcf3-23c5-4344-bcf8-536d0a922951",
   "metadata": {},
   "source": [
    "(i) Correctness:\n",
    " Implements all six password rules correctly.\n",
    " Uses dictionary storage for organized validation results.\n",
    " Loop continues until a valid password is entered or the user quits with Q/q.\n",
    " Output clearly indicates success or failure.\n",
    "\n",
    "(ii) Time & Space Complexity:\n",
    "Each validation uses a single scan through the string (any() → O(n)).\n",
    "Overall complexity remains O(n) time and O(1) space — perfectly efficient for password checking.\n",
    "\n",
    "(iii) Robustness:\n",
    " Works correctly for empty strings and invalid inputs.\n",
    " Prevents spaces and allows uppercase/lowercase/symbol mixes.\n",
    " Allows safe quit option (Q/q).\n",
    "\n",
    "(iv) Readability / Style:\n",
    " Clean, well-structured, and readable code.\n",
    " Dictionary-based validation makes it scalable if new rules are added.\n",
    " Could benefit from comments and type hints for clarity.\n",
    "\n",
    "(v) Faithfulness to Lecture Concepts:\n",
    " Perfectly matches lessons on if/elif/else, loops, and logical operators.\n",
    " Follows “break/continue” flow control style from your examples.\n",
    " Uses string methods like .isupper(), .islower(), .isdigit() — exactly as demonstrated in class."
   ]
  },
  {
   "cell_type": "markdown",
   "id": "7ade01cf-9f1f-419a-bace-2d49186dbdca",
   "metadata": {},
   "source": [
    "## Improved Code"
   ]
  },
  {
   "cell_type": "code",
   "execution_count": 22,
   "id": "adfdbef9-28a5-40e3-96a1-201baa6b7e83",
   "metadata": {},
   "outputs": [
    {
     "name": "stdout",
     "output_type": "stream",
     "text": [
      "=== Password Policy Checker ===\n"
     ]
    },
    {
     "name": "stdin",
     "output_type": "stream",
     "text": [
      "Enter a password (Q to quit):  12312412312cj\n"
     ]
    },
    {
     "name": "stdout",
     "output_type": "stream",
     "text": [
      "\n",
      "Password Check Results:\n",
      " - length: checked\n",
      " - upper: no\n",
      " - lower: checked\n",
      " - digit: checked\n",
      " - symbol: no\n",
      " - no_space: checked\n",
      "\n",
      "no Password invalid. Please try again.\n",
      "\n"
     ]
    },
    {
     "name": "stdin",
     "output_type": "stream",
     "text": [
      "Enter a password (Q to quit):  CjNavaja@182003\n"
     ]
    },
    {
     "name": "stdout",
     "output_type": "stream",
     "text": [
      "\n",
      "Password Check Results:\n",
      " - length: checked\n",
      " - upper: checked\n",
      " - lower: checked\n",
      " - digit: checked\n",
      " - symbol: checked\n",
      " - no_space: checked\n",
      "\n",
      "checked Password accepted! All requirements met.\n",
      "\n"
     ]
    }
   ],
   "source": [
    "def check_password(pw: str) -> dict:\n",
    "    \"\"\"\n",
    "    Validate password against multiple security rules.\n",
    "    Returns a dict with boolean checks and overall pass/fail.\n",
    "    \"\"\"\n",
    "    symbols = \"!@#$%^&*\"\n",
    "    rules = {\n",
    "        \"length\": len(pw) >= 10,\n",
    "        \"upper\": any(ch.isupper() for ch in pw),\n",
    "        \"lower\": any(ch.islower() for ch in pw),\n",
    "        \"digit\": any(ch.isdigit() for ch in pw),\n",
    "        \"symbol\": any(ch in symbols for ch in pw),\n",
    "        \"no_space\": \" \" not in pw\n",
    "    }\n",
    "    rules[\"overall\"] = all(rules.values())\n",
    "    return rules\n",
    "\n",
    "\n",
    "# --- User Input Loop ---\n",
    "print(\"=== Password Policy Checker ===\")\n",
    "while True:\n",
    "    pw = input(\"Enter a password (Q to quit): \")\n",
    "    if pw.lower() == \"q\":\n",
    "        print(\"Program exited by user.\")\n",
    "        break\n",
    "\n",
    "    result = check_password(pw)\n",
    "    print(\"\\nPassword Check Results:\")\n",
    "    for rule, passed in result.items():\n",
    "        if rule != \"overall\":\n",
    "            print(f\" - {rule}: {'checked' if passed else 'no'}\")\n",
    "\n",
    "    if result[\"overall\"]:\n",
    "        print(\"\\nchecked Password accepted! All requirements met.\\n\")\n",
    "        break\n",
    "    else:\n",
    "        print(\"\\nno Password invalid. Please try again.\\n\")\n"
   ]
  },
  {
   "cell_type": "markdown",
   "id": "7104edfb-3c45-4a47-9ae9-556637aa0069",
   "metadata": {},
   "source": [
    "## Lecture Concept Reference"
   ]
  },
  {
   "cell_type": "raw",
   "id": "b14e8554-e5cf-4aaa-8e5a-d492e1a8a7f1",
   "metadata": {},
   "source": [
    "#Conditionals: if, elif, else\n",
    "\n",
    "#Logical Operators: and, or, not\n",
    "\n",
    "#Loops: while True, break, continue\n",
    "\n",
    "#String Methods: .isupper(), .islower(), .isdigit()\n",
    "\n",
    "#Practical Input Validation: repetition until valid entry"
   ]
  },
  {
   "cell_type": "markdown",
   "id": "b7bc1e3d-7b36-4d27-a80f-a7ca0776e892",
   "metadata": {},
   "source": [
    "# Question #6"
   ]
  },
  {
   "cell_type": "raw",
   "id": "57f06080-87e4-46ef-84a2-63c3ca0e9c8b",
   "metadata": {},
   "source": [
    "Q6. Dice Simulation (Monte Carlo). Write roll() -> int to simulate a fair die,\n",
    "then simulate 100,000 rolls to estimate the probability that the sum of two dice\n",
    "equals 7. Compare empirical result to the exact probability. Comment on random\n",
    "seeding and reproducibility. Anchor concepts: random module, simulation, averages.\n",
    "Reference: :contentReference[oaicite:12]index=12"
   ]
  },
  {
   "cell_type": "markdown",
   "id": "77a4182a-c3f3-4e21-91fe-55db074190a7",
   "metadata": {},
   "source": [
    "## Prompt(chatGPT):"
   ]
  },
  {
   "cell_type": "raw",
   "id": "d0295247-b112-41c1-a3ab-88ca52e04565",
   "metadata": {},
   "source": [
    "Write a Python function roll() that returns a random number from 1 to 6.\n",
    "Simulate 100,000 rolls of two dice and estimate the probability that their sum equals 7.\n",
    "Compare it to the exact 1/6 probability and explain random seeding and reproducibility."
   ]
  },
  {
   "cell_type": "markdown",
   "id": "e9174169-1be8-4624-a202-24605f910da9",
   "metadata": {},
   "source": [
    "## chatGPT Code:"
   ]
  },
  {
   "cell_type": "code",
   "execution_count": 23,
   "id": "d5d9ecab-1c09-4f38-b387-ce8493264113",
   "metadata": {},
   "outputs": [
    {
     "name": "stdout",
     "output_type": "stream",
     "text": [
      "Estimated probability: 0.16916\n",
      "Exact probability: 0.16666666666666666\n"
     ]
    }
   ],
   "source": [
    "import random\n",
    "\n",
    "def roll():\n",
    "    return random.randint(1, 6)\n",
    "\n",
    "count = 0\n",
    "trials = 100000\n",
    "for _ in range(trials):\n",
    "    if roll() + roll() == 7:\n",
    "        count += 1\n",
    "\n",
    "print(\"Estimated probability:\", count / trials)\n",
    "print(\"Exact probability:\", 1/6)\n"
   ]
  },
  {
   "cell_type": "markdown",
   "id": "97b1b59c-d5e9-4f3c-9429-dad728b92f4e",
   "metadata": {},
   "source": [
    "## Critique"
   ]
  },
  {
   "cell_type": "raw",
   "id": "d907cf34-ed05-46f4-894b-d7909b7b3d7b",
   "metadata": {},
   "source": [
    "(i) Correctness:\n",
    " Simulates dice rolls correctly using randint(1, 6).\n",
    " Performs 100,000 trials and counts how many times the sum equals 7.\n",
    " Prints both empirical and theoretical probabilities.\n",
    "\n",
    "(ii) Time & Space Complexity:\n",
    "\n",
    "Each trial does constant work → O(n) time, where n = number of trials (100,000).\n",
    "\n",
    "Uses constant extra space → O(1).\n",
    "Efficient and perfectly fine for simulation scale.\n",
    "\n",
    "(iii) Robustness:\n",
    " Works for any number of trials.\n",
    " Could add seeding (random.seed()) for reproducibility.\n",
    " No risk of crash or bad input since it’s all programmatic.\n",
    "\n",
    "(iv) Readability / Style:\n",
    " Simple, structured, clear.\n",
    " Could improve by modularizing into a simulation function and adding formatted output.\n",
    " Type hints and docstrings would add polish.\n",
    "\n",
    "(v) Faithfulness to Lecture Concepts:\n",
    " Demonstrates the random module (randint()), repeated trials, and empirical averaging — all central to the Monte Carlo simulation concept discussed in class.\n",
    " The comparison of simulated vs. exact probability reflects your lecture examples on law of large numbers and reproducibility via seeding."
   ]
  },
  {
   "cell_type": "markdown",
   "id": "4b4f59ea-7e9b-4d4b-8b56-2507ef9289a5",
   "metadata": {},
   "source": [
    "## Improved Code"
   ]
  },
  {
   "cell_type": "code",
   "execution_count": 24,
   "id": "9df3735a-a4cf-40d5-b67c-ee82c8f3eb0e",
   "metadata": {},
   "outputs": [
    {
     "name": "stdout",
     "output_type": "stream",
     "text": [
      "=== Dice Simulation (Monte Carlo) ===\n",
      "Total Trials       : 100000\n",
      "Estimated P(sum=7) : 0.17036\n",
      "Theoretical P(sum=7): 0.16667\n",
      "Difference         : 0.00369\n"
     ]
    }
   ],
   "source": [
    "import random\n",
    "\n",
    "def roll() -> int:\n",
    "    \"\"\"Simulate rolling a fair six-sided die.\"\"\"\n",
    "    return random.randint(1, 6)\n",
    "\n",
    "\n",
    "def simulate_dice(trials: int = 100_000) -> None:\n",
    "    \"\"\"\n",
    "    Simulate rolling two dice and estimate probability that the sum equals 7.\n",
    "    Compare with theoretical probability (1/6 ≈ 0.1667).\n",
    "    \"\"\"\n",
    "    random.seed(0)  # ensures reproducibility\n",
    "    count = 0\n",
    "    for _ in range(trials):\n",
    "        if roll() + roll() == 7:\n",
    "            count += 1\n",
    "\n",
    "    estimated = count / trials\n",
    "    theoretical = 1 / 6\n",
    "\n",
    "    print(\"=== Dice Simulation (Monte Carlo) ===\")\n",
    "    print(f\"Total Trials       : {trials}\")\n",
    "    print(f\"Estimated P(sum=7) : {estimated:.5f}\")\n",
    "    print(f\"Theoretical P(sum=7): {theoretical:.5f}\")\n",
    "    print(f\"Difference         : {abs(estimated - theoretical):.5f}\")\n",
    "\n",
    "\n",
    "# --- Run Simulation ---\n",
    "simulate_dice()\n"
   ]
  },
  {
   "cell_type": "markdown",
   "id": "21d4aac9-5b53-47e6-b027-c5f7b209747f",
   "metadata": {},
   "source": [
    "## Lecture Concept Reference"
   ]
  },
  {
   "cell_type": "raw",
   "id": "cb0e26a1-f3f6-44ea-8084-a73d9ffe1f8f",
   "metadata": {},
   "source": [
    "#Random Module: random.randint()\n",
    "\n",
    "#Simulation & Probability: Monte Carlo principle\n",
    "\n",
    "#Reproducibility: using random.seed()\n",
    "\n",
    "#Averages: empirical vs. theoretical convergence\n",
    "\n",
    "#Complexity: linear time, constant space"
   ]
  },
  {
   "cell_type": "markdown",
   "id": "715abccc-50dc-46e7-8e3a-cd7436623f79",
   "metadata": {},
   "source": [
    "# Question #7"
   ]
  },
  {
   "cell_type": "raw",
   "id": "8a0ae288-1443-4b19-a58d-811375f74eea",
   "metadata": {},
   "source": [
    "Q7. OOP: Vehicles with Odometer and Fuel. Design classes Vehicle (base),\n",
    "Car and Truck (children). Each has color, mileage, and fuel_liters. Provide\n",
    "drive(km, km_per_liter) which increments mileage and decreases fuel (never below 0) and refuel(liters). Show how inheritance avoids duplication and add\n",
    "a method override in Truck (e.g., different efficiency). Include a minimal test\n",
    "script. Anchor concepts: classes vs. instances, attributes, instance methods, inheritance/override. Reference: :contentReference[oaicite:13]index=13"
   ]
  },
  {
   "cell_type": "markdown",
   "id": "cdbd27e2-19ff-40a7-8d58-3aa6f1cdcf31",
   "metadata": {},
   "source": [
    "## Prompt(chatGPT):"
   ]
  },
  {
   "cell_type": "raw",
   "id": "69761565-6d37-4187-b236-e7d1fd66d7e2",
   "metadata": {},
   "source": [
    "Write Python classes Vehicle, Car, and Truck.\n",
    "Each has color, mileage, and fuel_liters.\n",
    "Add methods drive(km, km_per_liter) and refuel(liters).\n",
    "Make Truck override drive() to be less fuel-efficient.\n",
    "Include a short test demonstrating inheritance and overriding."
   ]
  },
  {
   "cell_type": "markdown",
   "id": "bfe987ca-577e-4f5b-b0d5-6db136d766b3",
   "metadata": {},
   "source": [
    "## chatGPT Code"
   ]
  },
  {
   "cell_type": "code",
   "execution_count": 25,
   "id": "614a5b93-8772-47b0-89c5-b57452d9bc7e",
   "metadata": {},
   "outputs": [
    {
     "name": "stdout",
     "output_type": "stream",
     "text": [
      "10100 30.0\n",
      "5100 67.5\n"
     ]
    }
   ],
   "source": [
    "class Vehicle:\n",
    "    def __init__(self, color, mileage, fuel_liters):\n",
    "        self.color = color\n",
    "        self.mileage = mileage\n",
    "        self.fuel_liters = fuel_liters\n",
    "\n",
    "    def drive(self, km, km_per_liter):\n",
    "        fuel_needed = km / km_per_liter\n",
    "        if fuel_needed <= self.fuel_liters:\n",
    "            self.mileage += km\n",
    "            self.fuel_liters -= fuel_needed\n",
    "        else:\n",
    "            km_possible = self.fuel_liters * km_per_liter\n",
    "            self.mileage += km_possible\n",
    "            self.fuel_liters = 0\n",
    "\n",
    "    def refuel(self, liters):\n",
    "        self.fuel_liters += liters\n",
    "\n",
    "\n",
    "class Car(Vehicle):\n",
    "    pass\n",
    "\n",
    "\n",
    "class Truck(Vehicle):\n",
    "    def drive(self, km, km_per_liter):\n",
    "        super().drive(km, km_per_liter * 0.8)  # less efficient\n",
    "\n",
    "\n",
    "car = Car(\"red\", 10000, 40)\n",
    "truck = Truck(\"blue\", 5000, 80)\n",
    "\n",
    "car.drive(100, 10)\n",
    "truck.drive(100, 10)\n",
    "\n",
    "print(car.mileage, car.fuel_liters)\n",
    "print(truck.mileage, truck.fuel_liters)\n"
   ]
  },
  {
   "cell_type": "markdown",
   "id": "b2f8ba2c-2a7d-4a59-afc5-a619cbad0540",
   "metadata": {},
   "source": [
    "## Critique"
   ]
  },
  {
   "cell_type": "raw",
   "id": "2c4b2c4b-d8f6-4345-beac-8fcd5f3e7863",
   "metadata": {},
   "source": [
    "(i) Correctness:\n",
    " Implements inheritance properly: both Car and Truck inherit from Vehicle.\n",
    " Truck overrides drive() correctly with reduced efficiency.\n",
    " Fuel never drops below 0, satisfying robustness.\n",
    " Demonstrates drive() and refuel() behavior with valid test runs.\n",
    "\n",
    "(ii) Time & Space Complexity:\n",
    "Each method executes simple arithmetic → O(1) time and space.\n",
    "The design is efficient and scales logically with more vehicles.\n",
    "\n",
    "(iii) Robustness:\n",
    " Handles cases where fuel runs out mid-drive.\n",
    " Could improve slightly by validating that inputs are non-negative.\n",
    " Still, no crashes or unsafe operations occur.\n",
    "\n",
    "(iv) Readability / Style:\n",
    " Clear, PEP 8-compliant, good naming.\n",
    " Would benefit from type hints, docstrings, and formatted test output.\n",
    " Logical separation of base and derived classes.\n",
    "\n",
    "(v) Faithfulness to Lecture Concepts:\n",
    " Mirrors exactly the “Vehicle–Car–Truck” example in your OOP lecture slides.\n",
    " Demonstrates inheritance (“Car IS-A Vehicle”) and method overriding.\n",
    " Uses attributes and instance methods to encapsulate behavior and avoid code duplication."
   ]
  },
  {
   "cell_type": "markdown",
   "id": "d74d5134-6847-468c-a5fc-34d2fa9645b8",
   "metadata": {},
   "source": [
    "## Improved Code"
   ]
  },
  {
   "cell_type": "code",
   "execution_count": 26,
   "id": "d4f3fe7d-0c4d-4f12-97a2-5ef84084c8a0",
   "metadata": {},
   "outputs": [
    {
     "name": "stdout",
     "output_type": "stream",
     "text": [
      "=== Vehicle OOP Simulation ===\n",
      "Car -> Mileage: 10100, Fuel left: 35.00\n",
      "Truck -> Mileage: 5100, Fuel left: 77.50\n"
     ]
    }
   ],
   "source": [
    "class Vehicle:\n",
    "    \"\"\"Base class representing a vehicle with color, mileage, and fuel.\"\"\"\n",
    "    def __init__(self, color: str, mileage: float, fuel_liters: float):\n",
    "        self.color = color\n",
    "        self.mileage = mileage\n",
    "        self.fuel_liters = fuel_liters\n",
    "\n",
    "    def drive(self, km: float, km_per_liter: float) -> None:\n",
    "        \"\"\"Drive the vehicle, update mileage and fuel usage (never below 0).\"\"\"\n",
    "        if km <= 0 or km_per_liter <= 0:\n",
    "            print(\"Invalid drive parameters.\")\n",
    "            return\n",
    "        \n",
    "        fuel_needed = km / km_per_liter\n",
    "        if fuel_needed <= self.fuel_liters:\n",
    "            self.mileage += km\n",
    "            self.fuel_liters -= fuel_needed\n",
    "        else:\n",
    "            km_possible = self.fuel_liters * km_per_liter\n",
    "            self.mileage += km_possible\n",
    "            self.fuel_liters = 0\n",
    "\n",
    "    def refuel(self, liters: float) -> None:\n",
    "        \"\"\"Add fuel to the vehicle.\"\"\"\n",
    "        if liters <= 0:\n",
    "            print(\"Refuel amount must be positive.\")\n",
    "        else:\n",
    "            self.fuel_liters += liters\n",
    "\n",
    "\n",
    "class Car(Vehicle):\n",
    "    \"\"\"Car inherits all behavior from Vehicle.\"\"\"\n",
    "    pass\n",
    "\n",
    "\n",
    "class Truck(Vehicle):\n",
    "    \"\"\"Truck consumes 20% more fuel per km.\"\"\"\n",
    "    def drive(self, km: float, km_per_liter: float) -> None:\n",
    "        adjusted_efficiency = km_per_liter * 0.8  # 20% less efficient\n",
    "        super().drive(km, adjusted_efficiency)\n",
    "\n",
    "\n",
    "# --- Test / Demonstration ---\n",
    "print(\"=== Vehicle OOP Simulation ===\")\n",
    "car = Car(\"Red\", 10000, 40)\n",
    "truck = Truck(\"Blue\", 5000, 80)\n",
    "\n",
    "car.drive(100, 10)   # 10 km/l → consumes 10L\n",
    "truck.drive(100, 10) # 20% less efficient → consumes 12.5L\n",
    "\n",
    "car.refuel(5)\n",
    "truck.refuel(10)\n",
    "\n",
    "print(f\"Car -> Mileage: {car.mileage}, Fuel left: {car.fuel_liters:.2f}\")\n",
    "print(f\"Truck -> Mileage: {truck.mileage}, Fuel left: {truck.fuel_liters:.2f}\")\n"
   ]
  },
  {
   "cell_type": "markdown",
   "id": "fcd38d2b-ab5d-4b22-bdd1-dcbc5a9659c7",
   "metadata": {
    "jp-MarkdownHeadingCollapsed": true
   },
   "source": [
    "## Lecture Concept Reference"
   ]
  },
  {
   "cell_type": "raw",
   "id": "6e0db247-6ae7-406a-af25-f0d9165655e8",
   "metadata": {},
   "source": [
    "#Inheritance: Car and Truck reuse Vehicle logic instead of redefining.\n",
    "\n",
    "#Polymorphism: Truck overrides drive() for unique efficiency behavior.\n",
    "\n",
    "#Encapsulation: Each vehicle manages its own state (mileage, fuel_liters).\n",
    "\n",
    "#Safety: Input validation prevents invalid operations (negative distance or refuel).\n",
    "\n",
    "#Lecture Faithfulness: Matches the OOP diagrams and examples in your notes (base/derived classes, overridden methods)."
   ]
  },
  {
   "cell_type": "markdown",
   "id": "23f8ec46-38fd-4c05-a501-aef400550e52",
   "metadata": {},
   "source": [
    "## Question #8"
   ]
  },
  {
   "cell_type": "raw",
   "id": "1c960d8b-5077-4b5c-ae94-a8ef18f46b61",
   "metadata": {},
   "source": [
    "Q8. OOP + Composition: Kennel with Dogs. Using a Dog class (name, age, breed,\n",
    "bark()), implement a Kennel manager that holds multiple Dog instances, supports\n",
    "add_dog, remove_dog, oldest_dog(), and find_by_breed(breed). Compare composition vs. inheritance for this scenario. Anchor concepts: OOP design, managing\n",
    "collections of objects. Reference: :contentReference[oaicite:14]index=14"
   ]
  },
  {
   "cell_type": "markdown",
   "id": "750ef69b-4543-45a8-8b15-a42d0f7b4f23",
   "metadata": {},
   "source": [
    "## Prompt(chatGPT):"
   ]
  },
  {
   "cell_type": "raw",
   "id": "5fa6513f-924b-482a-b1a1-70167da5fb3e",
   "metadata": {},
   "source": [
    "Write Python classes Dog and Kennel.\n",
    "Dog has name, age, and breed, and a bark() method.\n",
    "Kennel manages multiple dogs and supports adding, removing, finding, and getting the oldest dog.\n",
    "Explain why composition (Kennel has Dogs) is better than inheritance here."
   ]
  },
  {
   "cell_type": "markdown",
   "id": "349dc54f-48fd-4d74-b719-f0235968e0ed",
   "metadata": {},
   "source": [
    "## chatGPT Code:"
   ]
  },
  {
   "cell_type": "code",
   "execution_count": 28,
   "id": "f533d490-7f66-4a8c-a034-2e15d03ae2a8",
   "metadata": {},
   "outputs": [
    {
     "name": "stdout",
     "output_type": "stream",
     "text": [
      "Rocky\n",
      "['Buddy', 'Luna']\n"
     ]
    }
   ],
   "source": [
    "class Dog:\n",
    "    def __init__(self, name, age, breed):\n",
    "        self.name = name\n",
    "        self.age = age\n",
    "        self.breed = breed\n",
    "\n",
    "    def bark(self):\n",
    "        return f\"{self.name} says Woof!\"\n",
    "\n",
    "\n",
    "class Kennel:\n",
    "    def __init__(self):\n",
    "        self.dogs = []\n",
    "\n",
    "    def add_dog(self, dog):\n",
    "        self.dogs.append(dog)\n",
    "\n",
    "    def remove_dog(self, name):\n",
    "        self.dogs = [d for d in self.dogs if d.name != name]\n",
    "\n",
    "    def oldest_dog(self):\n",
    "        if not self.dogs:\n",
    "            return None\n",
    "        return max(self.dogs, key=lambda d: d.age)\n",
    "\n",
    "    def find_by_breed(self, breed):\n",
    "        return [d for d in self.dogs if d.breed == breed]\n",
    "\n",
    "\n",
    "# test\n",
    "k = Kennel()\n",
    "k.add_dog(Dog(\"Buddy\", 5, \"Labrador\"))\n",
    "k.add_dog(Dog(\"Rocky\", 8, \"Beagle\"))\n",
    "k.add_dog(Dog(\"Luna\", 3, \"Labrador\"))\n",
    "\n",
    "print(k.oldest_dog().name)\n",
    "print([d.name for d in k.find_by_breed(\"Labrador\")])\n"
   ]
  },
  {
   "cell_type": "markdown",
   "id": "b85ed874-190d-4247-a59f-233b5cb7f8d8",
   "metadata": {},
   "source": [
    "## Critique"
   ]
  },
  {
   "cell_type": "raw",
   "id": "68450455-f266-4109-b1ba-5e30a8907e5e",
   "metadata": {},
   "source": [
    "(i) Correctness:\n",
    " All required methods implemented correctly.\n",
    " Uses composition — the Kennel contains Dog objects.\n",
    " Works for all expected behaviors: adding, removing, filtering, and finding the oldest dog.\n",
    "\n",
    "(ii) Time & Space Complexity:\n",
    "\n",
    "add_dog() → O(1)\n",
    "\n",
    "remove_dog() / find_by_breed() / oldest_dog() → O(n) since each scans the list once.\n",
    "\n",
    "Space complexity → O(n) for storing dogs in the kennel.\n",
    "\n",
    "(iii) Robustness:\n",
    " Handles empty kennel (oldest_dog() returns None).\n",
    " Could improve with type validation to ensure only Dog objects are added.\n",
    " Works with any number of dogs.\n",
    "\n",
    "(iv) Readability / Style:\n",
    " Code is very readable and structured clearly.\n",
    " Uses descriptive variable names, list comprehensions, and clean methods.\n",
    " Type hints and docstrings can make it more professional.\n",
    "\n",
    "(v) Faithfulness to Lecture Concepts:\n",
    " Perfectly represents composition (“Kennel HAS-A Dog”) rather than inheritance (“Kennel IS-A Dog”).\n",
    " Matches OOP lesson examples where one class manages objects of another class (composition diagram shown in Lecture 7).\n",
    " Demonstrates managing collections, encapsulation, and object relationships."
   ]
  },
  {
   "cell_type": "markdown",
   "id": "6385e637-d887-4d6f-81d0-ecc172f0efbb",
   "metadata": {},
   "source": [
    "## Improved Code"
   ]
  },
  {
   "cell_type": "code",
   "execution_count": 29,
   "id": "ec4ab846-40ab-4cfc-81c0-c85dd2323610",
   "metadata": {},
   "outputs": [
    {
     "name": "stdout",
     "output_type": "stream",
     "text": [
      "=== Kennel Manager ===\n",
      "Oldest dog: Rocky\n",
      "Labradors: ['Buddy', 'Luna']\n",
      "Buddy says Woof!\n"
     ]
    }
   ],
   "source": [
    "class Dog:\n",
    "    \"\"\"Represents a single dog.\"\"\"\n",
    "    def __init__(self, name: str, age: int, breed: str):\n",
    "        self.name = name\n",
    "        self.age = age\n",
    "        self.breed = breed\n",
    "\n",
    "    def bark(self) -> str:\n",
    "        \"\"\"Return a barking sound.\"\"\"\n",
    "        return f\"{self.name} says Woof!\"\n",
    "\n",
    "\n",
    "class Kennel:\n",
    "    \"\"\"Manages a collection of Dog objects (composition).\"\"\"\n",
    "    def __init__(self):\n",
    "        self.dogs: list[Dog] = []\n",
    "\n",
    "    def add_dog(self, dog: Dog) -> None:\n",
    "        \"\"\"Add a Dog object to the kennel.\"\"\"\n",
    "        if isinstance(dog, Dog):\n",
    "            self.dogs.append(dog)\n",
    "        else:\n",
    "            print(\"Only Dog objects can be added.\")\n",
    "\n",
    "    def remove_dog(self, name: str) -> None:\n",
    "        \"\"\"Remove a dog from the kennel by name.\"\"\"\n",
    "        self.dogs = [d for d in self.dogs if d.name.lower() != name.lower()]\n",
    "\n",
    "    def oldest_dog(self) -> Dog | None:\n",
    "        \"\"\"Return the oldest dog, or None if kennel is empty.\"\"\"\n",
    "        return max(self.dogs, key=lambda d: d.age, default=None)\n",
    "\n",
    "    def find_by_breed(self, breed: str) -> list[Dog]:\n",
    "        \"\"\"Return all dogs matching a breed.\"\"\"\n",
    "        return [d for d in self.dogs if d.breed.lower() == breed.lower()]\n",
    "\n",
    "\n",
    "# --- Test / Demonstration ---\n",
    "print(\"=== Kennel Manager ===\")\n",
    "kennel = Kennel()\n",
    "\n",
    "kennel.add_dog(Dog(\"Buddy\", 5, \"Labrador\"))\n",
    "kennel.add_dog(Dog(\"Rocky\", 8, \"Beagle\"))\n",
    "kennel.add_dog(Dog(\"Luna\", 3, \"Labrador\"))\n",
    "\n",
    "print(f\"Oldest dog: {kennel.oldest_dog().name}\")\n",
    "print(\"Labradors:\", [dog.name for dog in kennel.find_by_breed('Labrador')])\n",
    "print(kennel.dogs[0].bark())\n"
   ]
  },
  {
   "cell_type": "markdown",
   "id": "421798cb-78a8-4dfa-9ef3-ed73b6a021f5",
   "metadata": {},
   "source": [
    "## Lecture Concept Reference"
   ]
  },
  {
   "cell_type": "raw",
   "id": "78c19788-b924-4c50-a635-178f70bc4016",
   "metadata": {},
   "source": [
    "#OOP Design: Class relationships (IS-A vs HAS-A)\n",
    "\n",
    "#Composition: Kennel “has” Dog objects\n",
    "\n",
    "#Encapsulation: attributes are bound to each instance\n",
    "\n",
    "#Instance Management: adding, removing, searching objects in a collection\n",
    "\n",
    "#Efficiency: linear-time lookups over a list"
   ]
  },
  {
   "cell_type": "markdown",
   "id": "79086fff-5ab2-461b-9295-ae2e8f4b2877",
   "metadata": {},
   "source": [
    "## Question #9"
   ]
  },
  {
   "cell_type": "raw",
   "id": "9a27b8ba-c7fe-4bcc-8a0c-8ed1791450b5",
   "metadata": {},
   "source": [
    "Q9. Modules and Packages: Helpers. Create a package helpers/ with modules\n",
    "string_utils.py (function shout(s) uppercases) and math_utils.py (function area(l,w)).\n",
    "Then a main.py that imports with both import ... as ... and from ...\n",
    "import .... Explain namespace collisions and why aliases help. Anchor concepts: modules, packages, import variations, namespaces. Reference: :contentReference[oaicite:15]index=15"
   ]
  },
  {
   "cell_type": "markdown",
   "id": "f6dbb802-0c66-425f-903a-95d6b3dab9ac",
   "metadata": {},
   "source": [
    "## Prompt(chatGPT):"
   ]
  },
  {
   "cell_type": "raw",
   "id": "d15e6a4a-46b2-425b-a691-f237015a6e4b",
   "metadata": {},
   "source": [
    "Create a Python package helpers/ containing modules:\n",
    "string_utils.py with a function shout(s) and\n",
    "math_utils.py with a function area(l, w).\n",
    "Write main.py that imports these using import … as … and from … import ….\n",
    "Explain namespace collisions and alias usage"
   ]
  },
  {
   "cell_type": "markdown",
   "id": "4d48e06d-740f-4ddf-97e7-9a28ece47aea",
   "metadata": {},
   "source": [
    "## chatGPT Code:"
   ]
  },
  {
   "cell_type": "code",
   "execution_count": 37,
   "id": "b43506cf-48ff-4d56-bc28-0b7fc980fb79",
   "metadata": {},
   "outputs": [
    {
     "name": "stdout",
     "output_type": "stream",
     "text": [
      "HELLO WORLD!\n",
      "25\n"
     ]
    }
   ],
   "source": [
    "# helpers/string_utils.py\n",
    "def shout(s):\n",
    "    return s.upper()\n",
    "\n",
    "# helpers/math_utils.py\n",
    "def area(l, w):\n",
    "    return l * w\n",
    "\n",
    "# main.py\n",
    "from helpers.string_utils import shout\n",
    "from helpers.math_utils import area\n",
    "\n",
    "print(shout(\"hello world!\"))\n",
    "print(area(5, 5))"
   ]
  },
  {
   "cell_type": "markdown",
   "id": "0df1078c-7d7d-42aa-b917-f1f4b1d84eee",
   "metadata": {},
   "source": [
    "## Critique"
   ]
  },
  {
   "cell_type": "raw",
   "id": "fd5882bd-875c-49c6-a93b-fac16d426a69",
   "metadata": {},
   "source": [
    "(i) Correctness:\n",
    " Both modules and functions work correctly.\n",
    " Imports function properly using both aliasing and direct import styles.\n",
    " However, no package initialization file (__init__.py) is shown, which may cause errors on some systems.\n",
    "\n",
    "(ii) Time & Space Complexity:\n",
    "Both operations — uppercasing a string and multiplying two numbers — are constant-time, O(1).\n",
    "\n",
    "(iii) Robustness:\n",
    " Works for normal inputs.\n",
    " Should include basic validation for types (non-string for shout, negative values for area).\n",
    "\n",
    "(iv) Readability / Style:\n",
    " Simple and clean.\n",
    " Could be improved with type hints, docstrings, and formatted output.\n",
    "\n",
    "(v) Faithfulness to Lecture Concepts:\n",
    " Reflects lessons on modular programming, namespaces, and imports.\n",
    " Shows difference between import module as alias and from module import name."
   ]
  },
  {
   "cell_type": "markdown",
   "id": "34890da8-a7b2-45c4-8387-986bd09f1b7f",
   "metadata": {},
   "source": [
    "## Improved Code"
   ]
  },
  {
   "cell_type": "code",
   "execution_count": 39,
   "id": "ebb5f03c-2fe9-46b3-a5a6-6d33778ba474",
   "metadata": {},
   "outputs": [
    {
     "name": "stdout",
     "output_type": "stream",
     "text": [
      ">>> Style 1: import ... as ...\n",
      "Uppercased text: HELLO WORLD\n",
      "Computed area: 50\n",
      "\n",
      ">>> Style 2: from ... import ...\n",
      "Uppercased text: PYTHON\n",
      "Computed area: 21\n",
      "\n",
      ">>> Style 3: from ... import ... as ...\n",
      "Uppercased text: GOODBYE\n",
      "Computed area: 24\n"
     ]
    }
   ],
   "source": [
    "# === Demonstration of Different Import Techniques ===\n",
    "\n",
    "# ① Import the entire module with an alias for compact referencing\n",
    "import helpers.string_utils as su\n",
    "import helpers.math_utils as mu\n",
    "\n",
    "print(\">>> Style 1: import ... as ...\")\n",
    "print(\"Uppercased text:\", su.shout(\"hello world\"))\n",
    "print(\"Computed area:\", mu.area(10, 5))\n",
    "\n",
    "# ② Import specific functions directly from their modules\n",
    "from helpers.string_utils import shout\n",
    "from helpers.math_utils import area\n",
    "\n",
    "print(\"\\n>>> Style 2: from ... import ...\")\n",
    "print(\"Uppercased text:\", shout(\"python\"))\n",
    "print(\"Computed area:\", area(7, 3))\n",
    "\n",
    "# ③ Import functions but rename them locally (using aliases)\n",
    "from helpers.string_utils import shout as yell\n",
    "from helpers.math_utils import area as calculate_area\n",
    "\n",
    "print(\"\\n>>> Style 3: from ... import ... as ...\")\n",
    "print(\"Uppercased text:\", yell(\"goodbye\"))\n",
    "print(\"Computed area:\", calculate_area(6, 4))\n",
    "\n",
    "# --- Namespace Note ---\n",
    "# If two modules define a function with the same identifier (for example, both have 'process'),\n",
    "# direct imports can lead to one overwriting the other.\n",
    "# Assigning aliases gives each function a distinct local name, avoiding naming conflicts.\n",
    "# Example:\n",
    "#   from module1 import process as first_process\n",
    "#   from module2 import process as second_process\n"
   ]
  },
  {
   "cell_type": "markdown",
   "id": "e1a78096-1407-43d0-8644-51390501300d",
   "metadata": {},
   "source": [
    "## Lecture Concept Reference"
   ]
  },
  {
   "cell_type": "raw",
   "id": "e47ad323-fed0-4d21-9f90-809be8f3e28e",
   "metadata": {},
   "source": [
    "#Modules & Packages: Organizing related functions into separate \n",
    ".py files and grouping them inside a folder with __init__.py improves code structure and reusability.\n",
    "\n",
    "#Import Variations: Demonstrates import ... as ..., from ... import ..., and from ... import ... as ... — \n",
    "key methods to access functions from modules.\n",
    "\n",
    "#Namespaces: Each module has its own namespace; aliases prevent name conflicts when importing functions with identical names.\n",
    "\n",
    "#Clean Coding Practice: Clear file organization and aliases make programs easier to read, debug, and maintain."
   ]
  },
  {
   "cell_type": "markdown",
   "id": "85391ffb-dc35-407d-9f2a-c31ad1208c81",
   "metadata": {},
   "source": [
    "## Question #10"
   ]
  },
  {
   "cell_type": "raw",
   "id": "86602cff-ed68-4a9d-b2a3-1d9d9ae0493e",
   "metadata": {},
   "source": [
    "Q10. Robust Temperature Converter (Functions + Exceptions). Write two functions: cel_to_far(c) and far_to_cel(f) with type hints and docstrings. Build a\n",
    "CLI that asks the user which direction to convert and validates input (gracefully\n",
    "handles bad entries). Include unit tests (doctest or simple asserts) covering typical"
   ]
  },
  {
   "cell_type": "markdown",
   "id": "c2ca5f54-6d85-4da8-98fc-a8eea7fb0b28",
   "metadata": {},
   "source": [
    "## Prompt(chatGPT):"
   ]
  },
  {
   "cell_type": "raw",
   "id": "874101d5-01b3-432b-a471-ffb7b03406df",
   "metadata": {},
   "source": [
    "Write two functions cel_to_far(c) and far_to_cel(f) with type hints and docstrings.\n",
    "Build a CLI that asks which direction to convert and handles invalid input using try/except.\n",
    "Add test cases using simple asserts."
   ]
  },
  {
   "cell_type": "markdown",
   "id": "c2964519-eb62-4db7-aa20-a527f143fd15",
   "metadata": {},
   "source": [
    "## chatGPT Code:"
   ]
  },
  {
   "cell_type": "code",
   "execution_count": 41,
   "id": "5d6471ab-d232-496b-90fb-ab9abcaac50c",
   "metadata": {},
   "outputs": [
    {
     "name": "stdin",
     "output_type": "stream",
     "text": [
      "Convert to (C/F)?  C\n",
      "Enter temperature:  123\n"
     ]
    },
    {
     "name": "stdout",
     "output_type": "stream",
     "text": [
      "50.55555555555556\n"
     ]
    }
   ],
   "source": [
    "def cel_to_far(c):\n",
    "    return (c * 9/5) + 32\n",
    "\n",
    "def far_to_cel(f):\n",
    "    return (f - 32) * 5/9\n",
    "\n",
    "choice = input(\"Convert to (C/F)? \").lower()\n",
    "try:\n",
    "    temp = float(input(\"Enter temperature: \"))\n",
    "    if choice == \"f\":\n",
    "        print(cel_to_far(temp))\n",
    "    elif choice == \"c\":\n",
    "        print(far_to_cel(temp))\n",
    "    else:\n",
    "        print(\"Invalid choice\")\n",
    "except ValueError:\n",
    "    print(\"Invalid temperature\")\n"
   ]
  },
  {
   "cell_type": "markdown",
   "id": "401c8ca6-d078-47c1-b005-fd5f804a93cb",
   "metadata": {},
   "source": [
    "## Critique"
   ]
  },
  {
   "cell_type": "raw",
   "id": "fefdf96e-a515-4f6c-a4f1-27fd5faedc59",
   "metadata": {},
   "source": [
    "(i) Correctness:\n",
    " Formulas are accurate: °F = (°C × 9/5) + 32 and °C = (°F − 32) × 5/9.\n",
    " Missing type hints and docstrings.\n",
    " Prints raw results without formatting or labels.\n",
    "\n",
    "(ii) Time & Space Complexity:\n",
    "Each conversion is a single arithmetic operation → O(1) time and space.\n",
    "\n",
    "(iii) Robustness:\n",
    " Handles non-numeric input with try/except.\n",
    " Could validate conversion direction more clearly.\n",
    " Should handle uppercase or lowercase choices equally.\n",
    "\n",
    "(iv) Readability / Style:\n",
    " Compact and clear.\n",
    " Lacks documentation, spacing, and structure for a CLI.\n",
    " Should include function tests via assertions.\n",
    "\n",
    "(v) Faithfulness to Lecture Concepts:\n",
    " Demonstrates try/except, input(), and arithmetic operations.\n",
    " Needs clearer adherence to function design and testing conventions discussed in your lessons."
   ]
  },
  {
   "cell_type": "markdown",
   "id": "1034bca4-e5d9-47f7-9cdc-650548645a14",
   "metadata": {},
   "source": [
    "## Improved Code"
   ]
  },
  {
   "cell_type": "code",
   "execution_count": 42,
   "id": "aad185d0-7ad6-4163-9946-677da14ee5f0",
   "metadata": {},
   "outputs": [
    {
     "name": "stdout",
     "output_type": "stream",
     "text": [
      "=== Temperature Converter ===\n",
      "Choose conversion direction:\n",
      "1 - Celsius to Fahrenheit\n",
      "2 - Fahrenheit to Celsius\n"
     ]
    },
    {
     "name": "stdin",
     "output_type": "stream",
     "text": [
      "Enter choice (1/2):  2\n",
      "Enter temperature value:  50\n"
     ]
    },
    {
     "name": "stdout",
     "output_type": "stream",
     "text": [
      "50.00°F = 10.00°C\n"
     ]
    }
   ],
   "source": [
    "def cel_to_far(c: float) -> float:\n",
    "    \"\"\"Convert Celsius to Fahrenheit.\"\"\"\n",
    "    return (c * 9 / 5) + 32\n",
    "\n",
    "\n",
    "def far_to_cel(f: float) -> float:\n",
    "    \"\"\"Convert Fahrenheit to Celsius.\"\"\"\n",
    "    return (f - 32) * 5 / 9\n",
    "\n",
    "\n",
    "def main() -> None:\n",
    "    \"\"\"Simple CLI for temperature conversion with error handling.\"\"\"\n",
    "    print(\"=== Temperature Converter ===\")\n",
    "    print(\"Choose conversion direction:\")\n",
    "    print(\"1 - Celsius to Fahrenheit\")\n",
    "    print(\"2 - Fahrenheit to Celsius\")\n",
    "\n",
    "    choice = input(\"Enter choice (1/2): \").strip()\n",
    "    try:\n",
    "        value = float(input(\"Enter temperature value: \"))\n",
    "\n",
    "        if choice == \"1\":\n",
    "            result = cel_to_far(value)\n",
    "            print(f\"{value:.2f}°C = {result:.2f}°F\")\n",
    "        elif choice == \"2\":\n",
    "            result = far_to_cel(value)\n",
    "            print(f\"{value:.2f}°F = {result:.2f}°C\")\n",
    "        else:\n",
    "            print(\"Invalid option. Please select 1 or 2.\")\n",
    "\n",
    "    except ValueError:\n",
    "        print(\"Error: Please enter a valid numeric temperature.\")\n",
    "\n",
    "\n",
    "# --- Unit Tests (simple assertions) ---\n",
    "assert cel_to_far(0) == 32\n",
    "assert round(cel_to_far(100), 2) == 212.00\n",
    "assert round(far_to_cel(32), 2) == 0.00\n",
    "assert round(far_to_cel(212), 2) == 100.00\n",
    "\n",
    "# --- Run program ---\n",
    "if __name__ == \"__main__\":\n",
    "    main()\n"
   ]
  },
  {
   "cell_type": "markdown",
   "id": "78a7ba92-321d-4dbc-9e94-be86fb48022f",
   "metadata": {},
   "source": [
    "## Lecture Concept Reference"
   ]
  },
  {
   "cell_type": "raw",
   "id": "090ae16b-c068-463f-90d7-4d9e5d5ec421",
   "metadata": {},
   "source": [
    "#Functions: Defined separately for conversion, promoting reusability.\n",
    "\n",
    "#Exception Handling: try/except prevents runtime crashes from bad input.\n",
    "\n",
    "#Input Validation: Ensures user enters numeric data and valid menu options.\n",
    "\n",
    "#Unit Testing: Simple assert statements verify formulas and conversions.\n",
    "\n",
    "#Type Hints & Docstrings: Improve clarity and align with clean-code standards."
   ]
  },
  {
   "cell_type": "code",
   "execution_count": null,
   "id": "70891865-dd54-4e0f-8d0f-67bc1ad78f3b",
   "metadata": {},
   "outputs": [],
   "source": []
  }
 ],
 "metadata": {
  "kernelspec": {
   "display_name": "Python 3 (ipykernel)",
   "language": "python",
   "name": "python3"
  },
  "language_info": {
   "codemirror_mode": {
    "name": "ipython",
    "version": 3
   },
   "file_extension": ".py",
   "mimetype": "text/x-python",
   "name": "python",
   "nbconvert_exporter": "python",
   "pygments_lexer": "ipython3",
   "version": "3.13.5"
  }
 },
 "nbformat": 4,
 "nbformat_minor": 5
}
